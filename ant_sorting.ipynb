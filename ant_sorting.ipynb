{
 "cells": [
  {
   "cell_type": "markdown",
   "id": "34c26ef5-89bd-4757-bff9-cfd720962e83",
   "metadata": {},
   "source": [
    "# Ant sorting"
   ]
  },
  {
   "cell_type": "markdown",
   "id": "1a6cc94d-cac0-4295-aa10-da35752ee6bb",
   "metadata": {},
   "source": [
    "### General rules\n",
    "No two objects can exist on the same cell\n",
    "\n",
    "No two ants can exist on the same cell (not yet the case)"
   ]
  },
  {
   "cell_type": "code",
   "execution_count": 1,
   "id": "1687b1a1-9d8a-45e1-ba4c-a565306cbdcc",
   "metadata": {},
   "outputs": [],
   "source": [
    "import numpy as np\n",
    "import random"
   ]
  },
  {
   "cell_type": "code",
   "execution_count": 2,
   "id": "abaca604-c7af-41aa-95fa-fce73abfbdff",
   "metadata": {},
   "outputs": [],
   "source": [
    "class Ant:\n",
    "    \"\"\"Agent that moves object on the grid\"\"\"\n",
    "    \n",
    "    def __init__(self, x, y):\n",
    "        self.x = x\n",
    "        self.y = y\n",
    "        self.laden = False\n",
    "\n",
    "    def pickup(self, object):\n",
    "        self.object = object\n",
    "        self.laden = True\n",
    "        \n",
    "    def drop(self):\n",
    "        self.object = 0\n",
    "        self.laden = False\n",
    "        \n",
    "    def move(self):\n",
    "        neighbours = von_neumann_neighbourhood(self.x, self.y)\n",
    "        self.x, self.y = neighbours[random.randint(0, len(neighbours) - 1)]\n",
    "        "
   ]
  },
  {
   "cell_type": "code",
   "execution_count": 3,
   "id": "9dd75926-8491-4745-bf2e-3045735ba586",
   "metadata": {},
   "outputs": [],
   "source": [
    "def von_neumann_neighbourhood(x, y):\n",
    "    \"\"\"return coordinates of all cells in the Von Neumann neighbourhood of the input cell\"\"\"\n",
    "    \n",
    "    neighbours = []\n",
    "    if x - 1 >= 0:\n",
    "        neighbours.append((x - 1, y))\n",
    "    if x + 1 < grid_size:\n",
    "        neighbours.append((x + 1, y))\n",
    "    if y - 1 >= 0:\n",
    "        neighbours.append((x, y - 1))\n",
    "    if y + 1 < grid_size:\n",
    "        neighbours.append((x, y + 1))\n",
    "        \n",
    "    return neighbours"
   ]
  },
  {
   "cell_type": "code",
   "execution_count": 4,
   "id": "512d612f-0056-434c-ad08-338c1aed2e28",
   "metadata": {},
   "outputs": [],
   "source": [
    "def dissimilarity(object_o, object_n):\n",
    "    \"\"\"calculate dissimilarity between objects\"\"\"\n",
    "    if object_o == object_n:\n",
    "        dis = 0\n",
    "    else:\n",
    "        dis = 1\n",
    "    return dis"
   ]
  },
  {
   "cell_type": "code",
   "execution_count": 5,
   "id": "16404036-5450-44fb-aafa-d14b6da05139",
   "metadata": {},
   "outputs": [],
   "source": [
    "def local_density(x, y, object):\n",
    "    \"\"\"calculate local density\n",
    "        x, y = coordinates of the cell\n",
    "        object = object the ant is holding\"\"\"\n",
    "    \n",
    "    neighbourhood = von_neumann_neighbourhood(x, y)\n",
    "    s2 = len(neighbourhood) + 1\n",
    "    similarity = 0\n",
    "    \n",
    "    for x_n, y_n in neighbourhood:\n",
    "        similarity += 1 - dissimilarity(object, grid[x_n, y_n])/alpha\n",
    "        \n",
    "    return max(0, similarity/s2)"
   ]
  },
  {
   "cell_type": "code",
   "execution_count": 6,
   "id": "f6863c84-8d4e-47e6-95c3-6eb883805c6b",
   "metadata": {},
   "outputs": [],
   "source": [
    "def pickup_probability(local_density):\n",
    "    \"\"\"calculate pickup probability\"\"\"\n",
    "    \n",
    "    return (k1/(k1 + local_density))**2"
   ]
  },
  {
   "cell_type": "code",
   "execution_count": 7,
   "id": "0f6b4718-1ac8-4d48-8a33-b098974410f6",
   "metadata": {},
   "outputs": [],
   "source": [
    "def drop_probability(local_density):\n",
    "    \"\"\"calculate drop probability\"\"\"\n",
    "    \n",
    "    if local_density < k2:\n",
    "        probability = 2*local_density\n",
    "    else:\n",
    "        probability = 1\n",
    "        \n",
    "    return probability"
   ]
  },
  {
   "cell_type": "markdown",
   "id": "d998f7f2-7485-41cc-85ad-cb647f20067b",
   "metadata": {},
   "source": [
    "## Parameters"
   ]
  },
  {
   "cell_type": "code",
   "execution_count": 86,
   "id": "e1cb0f47-9c73-4e71-908e-fd6afb188aea",
   "metadata": {},
   "outputs": [],
   "source": [
    "grid_size = 10\n",
    "ant_density = 0.05\n",
    "object_density = 0.25\n",
    "n_object_types = 5\n",
    "t_total = 10000\n",
    "k1 = 0.1\n",
    "k2 = 0.15\n",
    "alpha = 0.9"
   ]
  },
  {
   "cell_type": "code",
   "execution_count": 87,
   "id": "2a35c79c",
   "metadata": {},
   "outputs": [],
   "source": [
    "def initiate_grid(grid_size, ant_density, object_density, n_object_types):\n",
    "    \"\"\"intiate the grid with objects and ants\"\"\"\n",
    "    \n",
    "    grid = np.zeros((grid_size, grid_size), dtype=int)\n",
    "    n_ants = int(ant_density*grid_size**2)\n",
    "    n_objects = int(object_density*grid_size**2)\n",
    "    \n",
    "    for object in range(n_objects):\n",
    "        color = random.randint(1, n_object_types)\n",
    "        x = random.randint(0, grid_size - 1)\n",
    "        y = random.randint(0, grid_size - 1)\n",
    "        grid[x, y] = color\n",
    "        \n",
    "    ants = []\n",
    "    for ant in range(n_ants):\n",
    "        x = random.randint(0, grid_size - 1)\n",
    "        y = random.randint(0, grid_size - 1)\n",
    "        ants.append(Ant(x, y))\n",
    "        \n",
    "    print(f\"There are {n_objects} objects and {n_ants} ants on the grid.\")    \n",
    "    return grid, ants"
   ]
  },
  {
   "cell_type": "code",
   "execution_count": 88,
   "id": "de635cc3-5473-4aa6-a95f-83f430b7dc38",
   "metadata": {},
   "outputs": [
    {
     "name": "stdout",
     "output_type": "stream",
     "text": [
      "There are 25 objects and 5 ants on the grid.\n"
     ]
    }
   ],
   "source": [
    "original_grid, ants = initiate_grid(grid_size, ant_density, object_density, n_object_types)"
   ]
  },
  {
   "cell_type": "code",
   "execution_count": 89,
   "id": "563510a6-423f-490c-9632-84dc2921ec10",
   "metadata": {},
   "outputs": [
    {
     "data": {
      "text/plain": [
       "(-0.5, 9.5, 9.5, -0.5)"
      ]
     },
     "execution_count": 89,
     "metadata": {},
     "output_type": "execute_result"
    },
    {
     "data": {
      "image/png": "[encoded data removed]",
      "text/plain": [
       "<Figure size 432x288 with 1 Axes>"
      ]
     },
     "metadata": {
      "needs_background": "light"
     },
     "output_type": "display_data"
    }
   ],
   "source": [
    "import matplotlib.pyplot as plt\n",
    "import matplotlib\n",
    "plt.imshow(original_grid, cmap = matplotlib.colors.ListedColormap(['k', 'r', 'y', 'b', 'w', 'g']))\n",
    "plt.axis('off')"
   ]
  },
  {
   "cell_type": "markdown",
   "id": "a048462f-f009-4023-a01e-e44c4b33b2ce",
   "metadata": {},
   "source": [
    "## Simulation"
   ]
  },
  {
   "cell_type": "code",
   "execution_count": 90,
   "id": "8605054f-a764-4e0a-bfe2-9d882b2fbd9e",
   "metadata": {},
   "outputs": [],
   "source": [
    "#grids = [] !!Grid niet elke timestep opslaan, is meerdere GB\n",
    "\n",
    "grid = np.copy(original_grid)\n",
    "\n",
    "for t in range(1, t_total):\n",
    "    \n",
    "    for ant in ants:\n",
    "        \n",
    "        if (ant.laden == False) & (grid[ant.x, ant.y] != 0):\n",
    "            p_pickup = pickup_probability(local_density(ant.x, ant.y, grid[ant.x, ant.y]))\n",
    "            \n",
    "            if random.random() <= p_pickup:\n",
    "                ant.pickup(grid[ant.x, ant.y])\n",
    "                grid[ant.x, ant.y] = 0\n",
    "                \n",
    "        elif (ant.laden == True) & (grid[ant.x, ant.y] == 0):\n",
    "            p_drop = drop_probability(local_density(ant.x, ant.y, ant.object))\n",
    "            \n",
    "            if random.random() <= p_drop:\n",
    "                grid[ant.x, ant.y] = ant.object\n",
    "                ant.drop()\n",
    "        \n",
    "        ant.move()\n",
    "        #grids.append(np.copy(grid))\n",
    "        \n",
    "#for ant in ants:\n",
    "\n",
    "#    grid[ant.x, ant.y] = ant.object\n",
    "#    ant.drop(grid[ant.x, ant.y])"
   ]
  },
  {
   "cell_type": "code",
   "execution_count": 91,
   "id": "96018c09",
   "metadata": {},
   "outputs": [
    {
     "data": {
      "text/plain": [
       "(-0.5, 9.5, 9.5, -0.5)"
      ]
     },
     "execution_count": 91,
     "metadata": {},
     "output_type": "execute_result"
    },
    {
     "data": {
      "image/png": "[encoded data removed]",
      "text/plain": [
       "<Figure size 432x288 with 1 Axes>"
      ]
     },
     "metadata": {
      "needs_background": "light"
     },
     "output_type": "display_data"
    }
   ],
   "source": [
    "plt.imshow(grid, cmap = matplotlib.colors.ListedColormap(['k', 'r', 'y', 'b', 'w', 'g']))\n",
    "plt.axis('off')"
   ]
  },
  {
   "cell_type": "code",
   "execution_count": 92,
   "id": "c21152cc-f74e-4944-a545-a91d3557a421",
   "metadata": {},
   "outputs": [
    {
     "data": {
      "text/plain": [
       "69"
      ]
     },
     "execution_count": 92,
     "metadata": {},
     "output_type": "execute_result"
    }
   ],
   "source": [
    "sum(sum(grid == original_grid))"
   ]
  },
  {
   "cell_type": "markdown",
   "id": "0c86e0a3-0372-41a3-8b36-bd6f45fdd559",
   "metadata": {},
   "source": [
    "# With clusters"
   ]
  },
  {
   "cell_type": "code",
   "execution_count": 166,
   "id": "b808e02a-1460-4f2c-aa3a-d789280734ea",
   "metadata": {},
   "outputs": [],
   "source": [
    "class Cluster:\n",
    "    \"\"\"cluster object\"\"\"\n",
    "    \n",
    "    def __init__(self):\n",
    "        self.x = []\n",
    "        self.y = []\n",
    "        self.objects = []\n",
    "        self.object_type = 0\n",
    "\n",
    "    def add_object(self, x, y, object):\n",
    "        self.x.append(x)\n",
    "        self.y.append(y)\n",
    "        self.objects.append(object)\n",
    "        self.object_type = np.mean(self.objects)\n",
    "        "
   ]
  },
  {
   "cell_type": "code",
   "execution_count": 167,
   "id": "d47816a5-fe5c-4a89-8a0a-10f14b5fa0b2",
   "metadata": {},
   "outputs": [],
   "source": [
    "#!!cluster_grid contains index + 1 of clusters list \n",
    "\n",
    "def calculate_clusters(grid):\n",
    "    clusters = []\n",
    "    cluster_grid = np.zeros((grid_size, grid_size), dtype=int)\n",
    "    \n",
    "    #iterate over all grid cells\n",
    "    for x in range(grid_size):\n",
    "        for y in range(grid_size):\n",
    "            \n",
    "            # if it's an object\n",
    "            if grid[x, y] != 0:\n",
    "\n",
    "                # if the object is not in a cluster\n",
    "                if cluster_grid[x, y] == 0:\n",
    "                \n",
    "                    # if a neighbour is of the same type and in a cluster, add the object to that cluster\n",
    "                    for x_n, y_n in von_neumann_neighbourhood(x, y):\n",
    "                        ds = dissimilarity(grid[x, y], grid[x_n, y_n])\n",
    "                        if (ds == 0) and (cluster_grid[x_n, y_n] != 0):\n",
    "                            cluster = clusters[int(cluster_grid[x_n, y_n]) - 1]\n",
    "                            cluster.add_object(x, y, grid[x, y])\n",
    "                            cluster_grid[x, y] = cluster_grid[x_n, y_n]\n",
    "                            break\n",
    "                                \n",
    "                    # if no neighbours are in a cluster and the same type, make a cluster\n",
    "                    if cluster_grid[x, y] == 0:\n",
    "                        clusters.append(Cluster())\n",
    "                        clusters[len(clusters) - 1].add_object(x, y, grid[x, y])\n",
    "                        cluster_grid[x, y] = len(clusters)\n",
    "                    \n",
    "    return clusters, cluster_grid"
   ]
  },
  {
   "cell_type": "code",
   "execution_count": 153,
   "id": "037ce553-a01e-4f88-b375-591a900de25d",
   "metadata": {},
   "outputs": [],
   "source": [
    "clusters, cluster_grid = calculate_clusters(original_grid)"
   ]
  },
  {
   "cell_type": "code",
   "execution_count": 154,
   "id": "06c9a2c0-eaac-4143-9f0c-27c6df558c9c",
   "metadata": {},
   "outputs": [
    {
     "data": {
      "text/plain": [
       "21"
      ]
     },
     "execution_count": 154,
     "metadata": {},
     "output_type": "execute_result"
    }
   ],
   "source": [
    "len(clusters)"
   ]
  },
  {
   "cell_type": "code",
   "execution_count": 155,
   "id": "e2c68f3c-e99d-4fa4-bde2-b39ecdb151b6",
   "metadata": {},
   "outputs": [
    {
     "data": {
      "text/plain": [
       "[5]"
      ]
     },
     "execution_count": 155,
     "metadata": {},
     "output_type": "execute_result"
    }
   ],
   "source": [
    "clusters[0].objects"
   ]
  },
  {
   "cell_type": "code",
   "execution_count": 156,
   "id": "152b894d-fd8c-446d-92dd-09d08f4a6afa",
   "metadata": {},
   "outputs": [
    {
     "data": {
      "text/plain": [
       "(-0.5, 9.5, 9.5, -0.5)"
      ]
     },
     "execution_count": 156,
     "metadata": {},
     "output_type": "execute_result"
    },
    {
     "data": {
      "image/png": "[encoded data removed]",
      "text/plain": [
       "<Figure size 432x288 with 1 Axes>"
      ]
     },
     "metadata": {
      "needs_background": "light"
     },
     "output_type": "display_data"
    }
   ],
   "source": [
    "import matplotlib.pyplot as plt\n",
    "import matplotlib\n",
    "plt.imshow(original_grid, cmap = matplotlib.colors.ListedColormap(['k', 'r', 'y', 'b', 'w', 'g']))\n",
    "plt.axis('off')"
   ]
  },
  {
   "cell_type": "code",
   "execution_count": 157,
   "id": "9c7578b3-3093-4ec3-bd7e-6b824294eb86",
   "metadata": {},
   "outputs": [
    {
     "data": {
      "text/plain": [
       "<matplotlib.image.AxesImage at 0x1e00ef03f40>"
      ]
     },
     "execution_count": 157,
     "metadata": {},
     "output_type": "execute_result"
    },
    {
     "data": {
      "image/png": "[encoded data removed]",
      "text/plain": [
       "<Figure size 432x288 with 1 Axes>"
      ]
     },
     "metadata": {
      "needs_background": "light"
     },
     "output_type": "display_data"
    }
   ],
   "source": [
    "plt.imshow(cluster_grid)"
   ]
  },
  {
   "cell_type": "code",
   "execution_count": 159,
   "id": "fec84c42",
   "metadata": {},
   "outputs": [],
   "source": [
    "cluster_types = np.zeros((grid_size, grid_size), dtype=int)\n",
    "\n",
    "for x in range(grid_size):\n",
    "    for y in range(grid_size):\n",
    "        if cluster_grid[x, y] != 0:\n",
    "            cluster_types[x,y] = clusters[int(cluster_grid[x, y]) - 1].objects[0]"
   ]
  },
  {
   "cell_type": "code",
   "execution_count": 161,
   "id": "8e819a84-2933-4284-a0b5-881e9a0787c9",
   "metadata": {},
   "outputs": [
    {
     "data": {
      "text/plain": [
       "<matplotlib.image.AxesImage at 0x1e00efdcf10>"
      ]
     },
     "execution_count": 161,
     "metadata": {},
     "output_type": "execute_result"
    },
    {
     "data": {
      "image/png": "[encoded data removed]",
      "text/plain": [
       "<Figure size 432x288 with 1 Axes>"
      ]
     },
     "metadata": {
      "needs_background": "light"
     },
     "output_type": "display_data"
    }
   ],
   "source": [
    "plt.imshow(cluster_types, cmap = matplotlib.colors.ListedColormap(['k', 'r', 'y', 'b', 'w', 'g']))"
   ]
  },
  {
   "cell_type": "code",
   "execution_count": 163,
   "id": "b650b624",
   "metadata": {},
   "outputs": [
    {
     "data": {
      "text/plain": [
       "0"
      ]
     },
     "execution_count": 163,
     "metadata": {},
     "output_type": "execute_result"
    }
   ],
   "source": [
    "sum(sum(cluster_types != original_grid)) # there is always one cell where it's not right, I don't know why\n",
    "\n",
    "#the first cluster had index 0 in the cluster grid, so it was considered part of the backgroun"
   ]
  },
  {
   "cell_type": "code",
   "execution_count": 24,
   "id": "42046f95",
   "metadata": {},
   "outputs": [
    {
     "name": "stdout",
     "output_type": "stream",
     "text": [
      "There are 625 objects and 125 ants on the grid.\n"
     ]
    }
   ],
   "source": [
    "original_grid, ants = initiate_grid(grid_size, ant_density, object_density, n_object_types)"
   ]
  },
  {
   "cell_type": "code",
   "execution_count": 25,
   "id": "c0dd9607",
   "metadata": {},
   "outputs": [],
   "source": [
    "clusters, cluster_grid = calculate_clusters(original_grid)"
   ]
  },
  {
   "cell_type": "code",
   "execution_count": 168,
   "id": "6f71ac4f",
   "metadata": {
    "tags": []
   },
   "outputs": [],
   "source": [
    "def Von_Neumann_drop(ant):   \n",
    "    succes = True\n",
    "    \n",
    "    #get location of ant\n",
    "    x, y = ant.x, ant.y\n",
    "    \n",
    "    #virtual drop of first object in cluster\n",
    "    temp_grid = np.copy(grid)\n",
    "    temp_grid[x, y] = ant.object.objects[0]\n",
    "    \n",
    "    #iterative virtual drops of next objects in cluster\n",
    "    for i in range(len(ant.object.objects) - 1):\n",
    "        \n",
    "        #get location of all neighbours\n",
    "        neighbours = von_neumann_neighbourhood(x, y)\n",
    "        max_s = 0\n",
    "        max_x = float(\"nan\")\n",
    "        max_y = float(\"nan\")\n",
    "\n",
    "        #Algorithm 4 in paper:\n",
    "        #iterate over neighbours\n",
    "        for x_n, y_n in neighbours:\n",
    "            #if cell is empty             !!!!!!!!!!!!!!!!!!!!!!!!!!!!!!doesn't check if ants are present\n",
    "            if grid[x_n, y_n] == 0:\n",
    "                #calculate local density of next object in cluster\n",
    "                s = local_density(x_n, y_n, ant.object.objects[i + 1])\n",
    "                #check if this neighbour is the current best neighbour\n",
    "                if s < max_s:\n",
    "                    max_s = s\n",
    "                    max_x = x_n\n",
    "                    max_y = y_n\n",
    "        \n",
    "        if np.isnan(max_x) != True:\n",
    "            #virtual drop of object on best neighbour\n",
    "            temp_grid[max_x, max_y] = ant.object.objects[i + 1]\n",
    "        \n",
    "            #\"move\" to the best neighbour\n",
    "            x = max_x\n",
    "            y = max_y\n",
    "            \n",
    "        else:\n",
    "            succes = False\n",
    "            break\n",
    "            \n",
    "    return succes, temp_grid\n",
    "        "
   ]
  },
  {
   "cell_type": "markdown",
   "id": "83c26977-7afb-4c20-a7aa-16d9c312a804",
   "metadata": {},
   "source": [
    "## Parameters"
   ]
  },
  {
   "cell_type": "code",
   "execution_count": 169,
   "id": "fa3ce583-af72-46b0-bc97-8aa91815c940",
   "metadata": {},
   "outputs": [],
   "source": [
    "grid_size = 10\n",
    "ant_density = 0.05\n",
    "object_density = 0.25\n",
    "n_object_types = 5\n",
    "t_total = 10000\n",
    "k1 = 0.1\n",
    "k2 = 0.15\n",
    "alpha = 0.9"
   ]
  },
  {
   "cell_type": "code",
   "execution_count": 170,
   "id": "adbd74c1-8855-4306-93b1-008b0487864d",
   "metadata": {},
   "outputs": [],
   "source": [
    "def initiate_grid(grid_size, ant_density, object_density, n_object_types):\n",
    "    \"\"\"intiate the grid with objects and ants\"\"\"\n",
    "    \n",
    "    grid = np.zeros((grid_size, grid_size), dtype=int)\n",
    "    n_ants = int(ant_density*grid_size**2)\n",
    "    n_objects = int(object_density*grid_size**2)\n",
    "    \n",
    "    for object in range(n_objects):\n",
    "        color = random.randint(1, n_object_types)\n",
    "        x = random.randint(0, grid_size - 1)\n",
    "        y = random.randint(0, grid_size - 1)\n",
    "        grid[x, y] = color\n",
    "        \n",
    "    ants = []\n",
    "    for ant in range(n_ants):\n",
    "        x = random.randint(0, grid_size - 1)\n",
    "        y = random.randint(0, grid_size - 1)\n",
    "        ants.append(Ant(x, y))\n",
    "        \n",
    "    print(f\"There are {n_objects} objects and {n_ants} ants on the grid.\")    \n",
    "    return grid, ants"
   ]
  },
  {
   "cell_type": "code",
   "execution_count": 171,
   "id": "31a03911-d744-47ae-8661-633242640e18",
   "metadata": {},
   "outputs": [
    {
     "name": "stdout",
     "output_type": "stream",
     "text": [
      "There are 25 objects and 5 ants on the grid.\n"
     ]
    }
   ],
   "source": [
    "original_grid, ants = initiate_grid(grid_size, ant_density, object_density, n_object_types)"
   ]
  },
  {
   "cell_type": "code",
   "execution_count": 172,
   "id": "2ff1d0ca-0206-40b8-a81e-1b5b22c3fc4f",
   "metadata": {},
   "outputs": [
    {
     "data": {
      "text/plain": [
       "(-0.5, 9.5, 9.5, -0.5)"
      ]
     },
     "execution_count": 172,
     "metadata": {},
     "output_type": "execute_result"
    },
    {
     "data": {
      "image/png": "[encoded data removed]",
      "text/plain": [
       "<Figure size 432x288 with 1 Axes>"
      ]
     },
     "metadata": {
      "needs_background": "light"
     },
     "output_type": "display_data"
    }
   ],
   "source": [
    "import matplotlib.pyplot as plt\n",
    "import matplotlib\n",
    "plt.imshow(original_grid, cmap = matplotlib.colors.ListedColormap(['k', 'r', 'y', 'b', 'w', 'g']))\n",
    "plt.axis('off')"
   ]
  },
  {
   "cell_type": "markdown",
   "id": "57c73c3e-29cb-43a5-b43d-def9b6044c2c",
   "metadata": {},
   "source": [
    "## Simulation"
   ]
  },
  {
   "cell_type": "code",
   "execution_count": 173,
   "id": "fde075e9-c7e2-4d33-9a31-eaf4d34723d8",
   "metadata": {},
   "outputs": [],
   "source": [
    "#grids = []\n",
    "clusters, cluster_grid = calculate_clusters(grid)\n",
    "\n",
    "for t in range(1, t_total):\n",
    "    \n",
    "    for ant in ants:\n",
    "        \n",
    "        if (ant.laden == False) and (grid[ant.x, ant.y] != 0):\n",
    "            p_pickup = pickup_probability(local_density(ant.x, ant.y, grid[ant.x, ant.y]))            \n",
    "            if random.random() <= p_pickup:\n",
    "                cluster = clusters[int(cluster_grid[ant.x, ant.y]) - 1]\n",
    "                ant.pickup(cluster)\n",
    "                # remove cluster & objects from the grids\n",
    "                for i in range(len(cluster.x)):\n",
    "                    #cluster_grid[cluster.x[i], cluster.y[i]] = 0\n",
    "                    grid[cluster.x[i], cluster.y[i]] = 0\n",
    "                \n",
    "        elif (ant.laden == True) and (grid[ant.x, ant.y] == 0):\n",
    "            p_drop = drop_probability(local_density(ant.x, ant.y, ant.object.object_type))\n",
    "            \n",
    "            \n",
    "            # we need to implement special drop method for clusters\n",
    "            \n",
    "            if random.random() <= p_drop:                \n",
    "                succes, temp_grid = Von_Neumann_drop(ant)\n",
    "                \n",
    "                if succes:\n",
    "                    grid = temp_grid\n",
    "                    ant.drop()\n",
    "                \n",
    "                # merge the 2 adjacent clusters\n",
    "        \n",
    "        ant.move()\n",
    "        clusters, cluster_grid = calculate_clusters(grid)\n",
    "        #grids.append(np.copy(grid))\n",
    "        \n",
    "#for ant in ants:\n",
    "\n",
    "#    grid[ant.x, ant.y] = ant.object\n",
    "#    ant.drop(grid[ant.x, ant.y])"
   ]
  },
  {
   "cell_type": "code",
   "execution_count": 174,
   "id": "644e2c8d",
   "metadata": {},
   "outputs": [
    {
     "data": {
      "text/plain": [
       "(-0.5, 9.5, 9.5, -0.5)"
      ]
     },
     "execution_count": 174,
     "metadata": {},
     "output_type": "execute_result"
    },
    {
     "data": {
      "image/png": "[encoded data removed]",
      "text/plain": [
       "<Figure size 432x288 with 1 Axes>"
      ]
     },
     "metadata": {
      "needs_background": "light"
     },
     "output_type": "display_data"
    }
   ],
   "source": [
    "plt.imshow(grid, cmap = matplotlib.colors.ListedColormap(['k', 'r', 'y', 'b', 'w', 'g']))\n",
    "plt.axis('off')"
   ]
  },
  {
   "cell_type": "code",
   "execution_count": null,
   "id": "2707d16e",
   "metadata": {},
   "outputs": [],
   "source": []
  }
 ],
 "metadata": {
  "kernelspec": {
   "display_name": "Python 3",
   "language": "python",
   "name": "python3"
  },
  "language_info": {
   "codemirror_mode": {
    "name": "ipython",
    "version": 3
   },
   "file_extension": ".py",
   "mimetype": "text/x-python",
   "name": "python",
   "nbconvert_exporter": "python",
   "pygments_lexer": "ipython3",
   "version": "3.8.10"
  }
 },
 "nbformat": 4,
 "nbformat_minor": 5
}
