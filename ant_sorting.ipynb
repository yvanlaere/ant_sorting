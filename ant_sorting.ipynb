{
 "cells": [
  {
   "cell_type": "markdown",
   "id": "34c26ef5-89bd-4757-bff9-cfd720962e83",
   "metadata": {},
   "source": [
    "# Ant sorting"
   ]
  },
  {
   "cell_type": "code",
   "execution_count": 303,
   "id": "1687b1a1-9d8a-45e1-ba4c-a565306cbdcc",
   "metadata": {},
   "outputs": [],
   "source": [
    "import numpy as np\n",
    "import random\n",
    "import matplotlib.pyplot as plt\n",
    "import matplotlib\n",
    "from itertools import combinations, combinations_with_replacement\n",
    "from math import dist"
   ]
  },
  {
   "cell_type": "code",
   "execution_count": 258,
   "id": "abaca604-c7af-41aa-95fa-fce73abfbdff",
   "metadata": {},
   "outputs": [],
   "source": [
    "class Ant:\n",
    "    \"\"\"Agent that moves object on the grid\"\"\"\n",
    "    \n",
    "    def __init__(self, x, y):\n",
    "        self.x = x\n",
    "        self.y = y\n",
    "        self.object = 0\n",
    "        self.laden = False\n",
    "\n",
    "    def pickup(self, object):\n",
    "        self.object = object\n",
    "        self.laden = True\n",
    "        \n",
    "    def drop(self):\n",
    "        self.object = 0\n",
    "        self.laden = False\n",
    "        \n",
    "    def move(self, ants):\n",
    "        neighbours = von_neumann_neighbourhood(self.x, self.y)\n",
    "        # 2 ants can't occupy the same cell\n",
    "        for ant in ants:\n",
    "            if (ant.x, ant.y) in neighbours:\n",
    "                neighbours.remove((ant.x, ant.y))\n",
    "        if len(neighbours) >= 1:\n",
    "            self.x, self.y = neighbours[random.randint(0, len(neighbours) - 1)]\n",
    "        "
   ]
  },
  {
   "cell_type": "code",
   "execution_count": 259,
   "id": "9dd75926-8491-4745-bf2e-3045735ba586",
   "metadata": {},
   "outputs": [],
   "source": [
    "def von_neumann_neighbourhood(x, y):\n",
    "    \"\"\"return coordinates of all cells in the Von Neumann neighbourhood of the input cell\"\"\"\n",
    "    \n",
    "    neighbours = []\n",
    "    if x - 1 >= 0:\n",
    "        neighbours.append((x - 1, y))\n",
    "    if x + 1 < grid_size:\n",
    "        neighbours.append((x + 1, y))\n",
    "    if y - 1 >= 0:\n",
    "        neighbours.append((x, y - 1))\n",
    "    if y + 1 < grid_size:\n",
    "        neighbours.append((x, y + 1))\n",
    "        \n",
    "    return neighbours"
   ]
  },
  {
   "cell_type": "code",
   "execution_count": 260,
   "id": "512d612f-0056-434c-ad08-338c1aed2e28",
   "metadata": {},
   "outputs": [],
   "source": [
    "def dissimilarity(object_o, object_n):\n",
    "    \"\"\"calculate dissimilarity between objects\"\"\"\n",
    "    if object_o == object_n:\n",
    "        dis = 0\n",
    "    else:\n",
    "        dis = 1\n",
    "    return dis"
   ]
  },
  {
   "cell_type": "code",
   "execution_count": 261,
   "id": "16404036-5450-44fb-aafa-d14b6da05139",
   "metadata": {},
   "outputs": [],
   "source": [
    "def local_density(x, y, object, grid):\n",
    "    \"\"\"calculate local density\n",
    "        x, y = coordinates of the cell\n",
    "        object = object the ant is holding\"\"\"\n",
    "    \n",
    "    neighbourhood = von_neumann_neighbourhood(x, y)\n",
    "    s2 = len(neighbourhood) + 1\n",
    "    similarity = 0\n",
    "    \n",
    "    for x_n, y_n in neighbourhood:\n",
    "        similarity += 1 - dissimilarity(object, grid[x_n, y_n])/alpha\n",
    "        \n",
    "    return max(0, similarity/s2)"
   ]
  },
  {
   "cell_type": "code",
   "execution_count": 262,
   "id": "f6863c84-8d4e-47e6-95c3-6eb883805c6b",
   "metadata": {},
   "outputs": [],
   "source": [
    "def pickup_probability(local_density):\n",
    "    \"\"\"calculate pickup probability\"\"\"\n",
    "    \n",
    "    return (k1/(k1 + local_density))**2"
   ]
  },
  {
   "cell_type": "code",
   "execution_count": 263,
   "id": "0f6b4718-1ac8-4d48-8a33-b098974410f6",
   "metadata": {},
   "outputs": [],
   "source": [
    "def drop_probability(local_density):\n",
    "    \"\"\"calculate drop probability\"\"\"\n",
    "    \n",
    "    if local_density < k2:\n",
    "        probability = 2*local_density\n",
    "    else:\n",
    "        probability = 1\n",
    "        \n",
    "    return probability"
   ]
  },
  {
   "cell_type": "markdown",
   "id": "d998f7f2-7485-41cc-85ad-cb647f20067b",
   "metadata": {},
   "source": [
    "## Parameters"
   ]
  },
  {
   "cell_type": "code",
   "execution_count": 264,
   "id": "e1cb0f47-9c73-4e71-908e-fd6afb188aea",
   "metadata": {},
   "outputs": [],
   "source": [
    "grid_size = 10\n",
    "ant_density = 0.05\n",
    "object_density = 0.25\n",
    "n_object_types = 5\n",
    "t_total = 10000\n",
    "k1 = 0.1\n",
    "k2 = 0.15\n",
    "alpha = 1"
   ]
  },
  {
   "cell_type": "code",
   "execution_count": 265,
   "id": "2a35c79c",
   "metadata": {},
   "outputs": [],
   "source": [
    "def initiate_grid(grid_size, ant_density, object_density, n_object_types):\n",
    "    \"\"\"intiate the grid with objects and ants\"\"\"\n",
    "    \n",
    "    grid = np.zeros((grid_size, grid_size), dtype=int)\n",
    "    n_ants = int(ant_density*grid_size**2)\n",
    "    n_objects = int(object_density*grid_size**2)\n",
    "    \n",
    "    for object in range(n_objects):\n",
    "        color = random.randint(1, n_object_types)\n",
    "        x = random.randint(0, grid_size - 1)\n",
    "        y = random.randint(0, grid_size - 1)\n",
    "        grid[x, y] = color\n",
    "        \n",
    "    ants = []\n",
    "    for ant in range(n_ants):\n",
    "        x = random.randint(0, grid_size - 1)\n",
    "        y = random.randint(0, grid_size - 1)\n",
    "        ants.append(Ant(x, y))\n",
    "        \n",
    "    print(f\"There are {n_objects} objects and {n_ants} ants on the grid.\")    \n",
    "    return grid, ants"
   ]
  },
  {
   "cell_type": "code",
   "execution_count": 266,
   "id": "de635cc3-5473-4aa6-a95f-83f430b7dc38",
   "metadata": {},
   "outputs": [
    {
     "name": "stdout",
     "output_type": "stream",
     "text": [
      "There are 25 objects and 5 ants on the grid.\n"
     ]
    }
   ],
   "source": [
    "original_grid, ants = initiate_grid(grid_size, ant_density, object_density, n_object_types)"
   ]
  },
  {
   "cell_type": "code",
   "execution_count": 267,
   "id": "563510a6-423f-490c-9632-84dc2921ec10",
   "metadata": {},
   "outputs": [
    {
     "data": {
      "image/png": "[encoded data removed]",
      "text/plain": [
       "<Figure size 432x288 with 1 Axes>"
      ]
     },
     "metadata": {
      "needs_background": "light"
     },
     "output_type": "display_data"
    }
   ],
   "source": [
    "plt.imshow(original_grid, cmap = matplotlib.colors.ListedColormap(['k', 'r', 'y', 'b', 'w', 'g']));"
   ]
  },
  {
   "cell_type": "markdown",
   "id": "a048462f-f009-4023-a01e-e44c4b33b2ce",
   "metadata": {},
   "source": [
    "## Simulation"
   ]
  },
  {
   "cell_type": "code",
   "execution_count": 268,
   "id": "8605054f-a764-4e0a-bfe2-9d882b2fbd9e",
   "metadata": {},
   "outputs": [],
   "source": [
    "grids = []\n",
    "grid = np.copy(original_grid)\n",
    "\n",
    "for t in range(1, t_total+1):\n",
    "    for ant in ants:\n",
    "        \n",
    "        if (ant.laden == False) & (grid[ant.x, ant.y] != 0):\n",
    "            p_pickup = pickup_probability(local_density(ant.x, ant.y, grid[ant.x, ant.y], grid))\n",
    "            \n",
    "            if random.random() <= p_pickup:\n",
    "                ant.pickup(grid[ant.x, ant.y])\n",
    "                grid[ant.x, ant.y] = 0\n",
    "                \n",
    "        elif (ant.laden == True) & (grid[ant.x, ant.y] == 0):\n",
    "            p_drop = drop_probability(local_density(ant.x, ant.y, ant.object, grid))\n",
    "            \n",
    "            if random.random() <= p_drop:\n",
    "                grid[ant.x, ant.y] = ant.object\n",
    "                ant.drop()\n",
    "        \n",
    "        ant.move(ants)\n",
    "        \n",
    "    if t % 1000 == 0:\n",
    "        grids.append(np.copy(grid))\n",
    "\n",
    "for ant in ants:\n",
    "    while ant.laden:\n",
    "        if grid[ant.x, ant.y] == 0:\n",
    "            grid[ant.x, ant.y] = ant.object\n",
    "            ant.drop()\n",
    "        else:\n",
    "            ant.move(ants)"
   ]
  },
  {
   "cell_type": "code",
   "execution_count": 269,
   "id": "96018c09",
   "metadata": {},
   "outputs": [
    {
     "data": {
      "image/png": "[encoded data removed]",
      "text/plain": [
       "<Figure size 432x288 with 1 Axes>"
      ]
     },
     "metadata": {
      "needs_background": "light"
     },
     "output_type": "display_data"
    }
   ],
   "source": [
    "plt.imshow(grid, cmap = matplotlib.colors.ListedColormap(['k', 'r', 'y', 'b', 'w', 'g']));"
   ]
  },
  {
   "cell_type": "markdown",
   "id": "0c86e0a3-0372-41a3-8b36-bd6f45fdd559",
   "metadata": {},
   "source": [
    "# Clustered ant sorting"
   ]
  },
  {
   "cell_type": "code",
   "execution_count": 270,
   "id": "b808e02a-1460-4f2c-aa3a-d789280734ea",
   "metadata": {},
   "outputs": [],
   "source": [
    "class Cluster:\n",
    "    \"\"\"cluster object\"\"\"\n",
    "    \n",
    "    def __init__(self):\n",
    "        self.x = []\n",
    "        self.y = []\n",
    "        self.positions = []\n",
    "        self.objects = []\n",
    "        self.object_type = 0\n",
    "\n",
    "    def add_object(self, x, y, object):\n",
    "        self.x.append(x)\n",
    "        self.y.append(y)\n",
    "        self.positions.append((x, y))\n",
    "        self.objects.append(object)\n",
    "        self.object_type = np.mean(self.objects)\n",
    "        "
   ]
  },
  {
   "cell_type": "code",
   "execution_count": 271,
   "id": "b8f930a3",
   "metadata": {},
   "outputs": [],
   "source": [
    "def calculate_clusters(grid):\n",
    "    \"\"\"Converts object into clusters, adjacent objects are put into the same cluster\"\"\"\n",
    "    # clusters for objects\n",
    "    clusters = []\n",
    "    cluster_grid = np.zeros((grid_size, grid_size), dtype=int)\n",
    "    # clusters for zeros\n",
    "    zero_clusters = []\n",
    "    zero_cluster_grid = np.zeros((grid_size, grid_size), dtype=int)\n",
    "    \n",
    "    \n",
    "    #iterate over all grid cells\n",
    "    for x in range(grid_size):\n",
    "        for y in range(grid_size):\n",
    "            \n",
    "            # if it's an object\n",
    "            if grid[x, y] != 0:\n",
    "\n",
    "                # if the object is not in a cluster\n",
    "                if cluster_grid[x, y] == 0:\n",
    "\n",
    "                    # make a cluster\n",
    "                    clusters.append(Cluster())\n",
    "                    clusters[len(clusters) - 1].add_object(x, y, grid[x, y])\n",
    "                    cluster_grid[x, y] = len(clusters)\n",
    "\n",
    "                    # add neighboring positions to the cluster using greedy search\n",
    "                    done = False\n",
    "                    already_seen = []\n",
    "                    while not done:\n",
    "                        added = 0\n",
    "                        for x_i, y_i in clusters[len(clusters) - 1].positions:\n",
    "                            if (x_i, y_i) not in already_seen:\n",
    "                                already_seen.append((x_i, y_i))\n",
    "                                neighbors = von_neumann_neighbourhood(x_i, y_i)\n",
    "                                same_type = [n for n in neighbors if grid[n[0], n[1]] == clusters[len(clusters) - 1].object_type]\n",
    "                                for s in same_type:\n",
    "                                    clusters[len(clusters) - 1].add_object(s[0], s[1], grid[s[0], s[1]])\n",
    "                                    cluster_grid[s[0], s[1]] = len(clusters)\n",
    "                                    added += 1\n",
    "                        if added == 0:\n",
    "                            done = True\n",
    "\n",
    "            # if it's not an object, make clusters of zeros (the free space), useful for dropping clusters later on\n",
    "            else:\n",
    "                # if it's is not in a cluster\n",
    "                if zero_cluster_grid[x, y] == 0:\n",
    "\n",
    "                    # make a cluster\n",
    "                    zero_clusters.append(Cluster())\n",
    "                    zero_clusters[len(zero_clusters) - 1].add_object(x, y, grid[x, y])\n",
    "                    zero_cluster_grid[x, y] = len(zero_clusters)\n",
    "\n",
    "                    # add neighboring positions to the cluster using greedy search\n",
    "                    done = False\n",
    "                    already_seen = []\n",
    "                    while not done:\n",
    "                        added = 0\n",
    "                        for x_i, y_i in zero_clusters[len(zero_clusters) - 1].positions:\n",
    "                            if (x_i, y_i) not in already_seen:\n",
    "                                already_seen.append((x_i, y_i))\n",
    "                                neighbors = von_neumann_neighbourhood(x_i, y_i)\n",
    "                                same_type = [n for n in neighbors if grid[n[0], n[1]] == zero_clusters[len(zero_clusters) - 1].object_type]\n",
    "                                for s in same_type:\n",
    "                                    zero_clusters[len(zero_clusters) - 1].add_object(s[0], s[1], grid[s[0], s[1]])\n",
    "                                    zero_cluster_grid[s[0], s[1]] = len(zero_clusters)\n",
    "                                    added += 1\n",
    "                        if added == 0:\n",
    "                            done = True\n",
    "\n",
    "        \n",
    "                          \n",
    "    return clusters, cluster_grid, zero_clusters, zero_cluster_grid"
   ]
  },
  {
   "cell_type": "code",
   "execution_count": 272,
   "id": "037ce553-a01e-4f88-b375-591a900de25d",
   "metadata": {},
   "outputs": [],
   "source": [
    "clusters, cluster_grid, zero_clusters, zero_cluster_grid = calculate_clusters(original_grid)"
   ]
  },
  {
   "cell_type": "code",
   "execution_count": 273,
   "id": "06c9a2c0-eaac-4143-9f0c-27c6df558c9c",
   "metadata": {},
   "outputs": [
    {
     "data": {
      "text/plain": [
       "22"
      ]
     },
     "execution_count": 273,
     "metadata": {},
     "output_type": "execute_result"
    }
   ],
   "source": [
    "len(clusters)"
   ]
  },
  {
   "cell_type": "code",
   "execution_count": 274,
   "id": "152b894d-fd8c-446d-92dd-09d08f4a6afa",
   "metadata": {},
   "outputs": [
    {
     "data": {
      "image/png": "[encoded data removed]",
      "text/plain": [
       "<Figure size 432x288 with 1 Axes>"
      ]
     },
     "metadata": {
      "needs_background": "light"
     },
     "output_type": "display_data"
    }
   ],
   "source": [
    "plt.imshow(original_grid, cmap = matplotlib.colors.ListedColormap(['k', 'r', 'y', 'b', 'w', 'g']));"
   ]
  },
  {
   "cell_type": "code",
   "execution_count": 275,
   "id": "9c7578b3-3093-4ec3-bd7e-6b824294eb86",
   "metadata": {},
   "outputs": [
    {
     "data": {
      "image/png": "[encoded data removed]",
      "text/plain": [
       "<Figure size 432x288 with 1 Axes>"
      ]
     },
     "metadata": {
      "needs_background": "light"
     },
     "output_type": "display_data"
    }
   ],
   "source": [
    "plt.imshow(cluster_grid);"
   ]
  },
  {
   "cell_type": "code",
   "execution_count": 276,
   "id": "5b742d30",
   "metadata": {},
   "outputs": [
    {
     "data": {
      "text/plain": [
       "2"
      ]
     },
     "execution_count": 276,
     "metadata": {},
     "output_type": "execute_result"
    }
   ],
   "source": [
    "len(zero_clusters)"
   ]
  },
  {
   "cell_type": "code",
   "execution_count": 277,
   "id": "77d8ab9e",
   "metadata": {},
   "outputs": [
    {
     "data": {
      "image/png": "[encoded data removed]",
      "text/plain": [
       "<Figure size 432x288 with 1 Axes>"
      ]
     },
     "metadata": {
      "needs_background": "light"
     },
     "output_type": "display_data"
    }
   ],
   "source": [
    "plt.imshow(zero_cluster_grid);"
   ]
  },
  {
   "cell_type": "code",
   "execution_count": 278,
   "id": "6f71ac4f",
   "metadata": {
    "tags": []
   },
   "outputs": [],
   "source": [
    "def Von_Neumann_drop(ant): \n",
    "    \"\"\"Von Neumann drop method to drop clusters\"\"\"\n",
    "    success = True\n",
    "    \n",
    "    #get location of ant\n",
    "    x, y = ant.x, ant.y\n",
    "    \n",
    "    #virtual drop of first object in cluster\n",
    "    temp_grid = np.copy(grid)\n",
    "    temp_grid[x, y] = ant.object.objects[0]\n",
    "    \n",
    "    #iterative virtual drops of next objects in cluster\n",
    "    for i in range(1, len(ant.object.objects)):\n",
    "        \n",
    "        #get location of all neighbours\n",
    "        neighbours = von_neumann_neighbourhood(x, y)\n",
    "        max_s = 0\n",
    "        max_x = float(\"nan\")\n",
    "        max_y = float(\"nan\")\n",
    "\n",
    "        #iterate over neighbours\n",
    "        for x_n, y_n in neighbours:\n",
    "            #if cell is empty \n",
    "            if temp_grid[x_n, y_n] == 0:\n",
    "                #calculate local density of next object in cluster\n",
    "                s = local_density(x_n, y_n, ant.object.objects[i], temp_grid)\n",
    "                #check if this neighbour is the current best neighbour\n",
    "                if s > max_s:\n",
    "                    max_s = s\n",
    "                    max_x = x_n\n",
    "                    max_y = y_n\n",
    "        \n",
    "        if np.isnan(max_x) != True:\n",
    "            #virtual drop of object on best neighbour\n",
    "            temp_grid[max_x, max_y] = ant.object.objects[i]\n",
    "        \n",
    "            #\"move\" to the best neighbour\n",
    "            x = max_x\n",
    "            y = max_y\n",
    "            \n",
    "        else:\n",
    "            success = False\n",
    "            break\n",
    "            \n",
    "    return success, temp_grid"
   ]
  },
  {
   "cell_type": "markdown",
   "id": "83c26977-7afb-4c20-a7aa-16d9c312a804",
   "metadata": {},
   "source": [
    "## Parameters"
   ]
  },
  {
   "cell_type": "code",
   "execution_count": 296,
   "id": "fa3ce583-af72-46b0-bc97-8aa91815c940",
   "metadata": {},
   "outputs": [],
   "source": [
    "grid_size = 7\n",
    "ant_density = 0.05\n",
    "object_density = 0.25\n",
    "n_object_types = 5\n",
    "t_total = 10000\n",
    "k1 = 0.1\n",
    "k2 = 0.15\n",
    "alpha = 1"
   ]
  },
  {
   "cell_type": "code",
   "execution_count": 297,
   "id": "31a03911-d744-47ae-8661-633242640e18",
   "metadata": {},
   "outputs": [
    {
     "name": "stdout",
     "output_type": "stream",
     "text": [
      "There are 12 objects and 2 ants on the grid.\n"
     ]
    }
   ],
   "source": [
    "original_grid, ants = initiate_grid(grid_size, ant_density, object_density, n_object_types)"
   ]
  },
  {
   "cell_type": "code",
   "execution_count": 298,
   "id": "2ff1d0ca-0206-40b8-a81e-1b5b22c3fc4f",
   "metadata": {},
   "outputs": [
    {
     "data": {
      "image/png": "[encoded data removed]",
      "text/plain": [
       "<Figure size 432x288 with 1 Axes>"
      ]
     },
     "metadata": {
      "needs_background": "light"
     },
     "output_type": "display_data"
    }
   ],
   "source": [
    "import matplotlib.pyplot as plt\n",
    "import matplotlib\n",
    "plt.imshow(original_grid, cmap = matplotlib.colors.ListedColormap(['k', 'r', 'y', 'b', 'w', 'g']));"
   ]
  },
  {
   "cell_type": "markdown",
   "id": "57c73c3e-29cb-43a5-b43d-def9b6044c2c",
   "metadata": {},
   "source": [
    "## Simulation"
   ]
  },
  {
   "cell_type": "code",
   "execution_count": 299,
   "id": "fde075e9-c7e2-4d33-9a31-eaf4d34723d8",
   "metadata": {},
   "outputs": [
    {
     "name": "stdout",
     "output_type": "stream",
     "text": [
      "True\n",
      "True\n",
      "True\n",
      "Done\n"
     ]
    }
   ],
   "source": [
    "grids = []\n",
    "grid = np.copy(original_grid)\n",
    "clusters, cluster_grid, zero_clusters, zero_cluster_grid = calculate_clusters(grid)\n",
    "ant_timer = 0\n",
    "maxtime = grid_size**2\n",
    "\n",
    "for t in range(1, t_total+1):\n",
    "    \n",
    "    # keep track of how many timesteps no clusters are dropped for surrounded cluster deadlock\n",
    "    ant_timer += 1\n",
    "    \n",
    "    for ant in ants:\n",
    "        \n",
    "        # pickup\n",
    "        if (ant.laden == False) and (grid[ant.x, ant.y] != 0):     \n",
    "            \n",
    "            # make sure ant doesn't pick up the last cluster of that type to avoid empty grid deadlock\n",
    "            if sum([grid[ant.x, ant.y] == cluster.object_type for cluster in clusters]) > 1: \n",
    "                \n",
    "                p_pickup = pickup_probability(local_density(ant.x, ant.y, grid[ant.x, ant.y], grid))            \n",
    "                if random.random() <= p_pickup:\n",
    "                    cluster = clusters[int(cluster_grid[ant.x, ant.y]) - 1]\n",
    "                    ant.pickup(cluster)          \n",
    "                    \n",
    "                    # remove cluster & objects from the grid\n",
    "                    for i in range(len(cluster.positions)):\n",
    "                        grid[cluster.x[i], cluster.y[i]] = 0     \n",
    "        \n",
    "        # drop\n",
    "        elif (ant.laden == True) and (grid[ant.x, ant.y] == 0):          \n",
    "            p_drop = drop_probability(local_density(ant.x, ant.y, ant.object.object_type, grid))     \n",
    "            if random.random() <= p_drop: \n",
    "                \n",
    "                # find the zero cluster that the ant is currently in\n",
    "                for zero_cluster in zero_clusters:\n",
    "                     if (ant.x, ant.y) in zero_cluster.positions:\n",
    "                        break\n",
    "     \n",
    "                # only drop if the free space (zero cluster) is large enough to hold the cluster that the ant is carrying\n",
    "                if len(ant.object.objects) <= len(zero_cluster.objects):\n",
    "                    # Neumann drop the cluster             \n",
    "                    success, temp_grid = Von_Neumann_drop(ant)\n",
    "                    print(success)\n",
    "                    if success:\n",
    "                        grid = temp_grid\n",
    "                        ant.drop()\n",
    "                        ant_timer = 0\n",
    "        \n",
    "        # if no clusters have been dropped for too long, force ants to walk around until they drop their clusters\n",
    "        # to avoid surrounded cluster deadlock (takes very long)\n",
    "        if ant_timer == maxtime:     \n",
    "            for ant in ants:\n",
    "                if ant.laden:        \n",
    "                    success = False\n",
    "                    while not success:\n",
    "                        ant.move(ants)\n",
    "                        # make sure the grid is empty and the ant is adjacent to a cluster of the same type\n",
    "                        if grid[ant.x, ant.y] == 0 and drop_probability(local_density(ant.x, ant.y, ant.object.object_type, grid)) > 0:                \n",
    "                            # find the zero cluster that the ant is currently in\n",
    "                            for zero_cluster in zero_clusters:\n",
    "                                if (ant.x, ant.y) in zero_cluster.positions:\n",
    "                                    break    \n",
    "                            # only drop if the free space (zero cluster) is large enough to hold the cluster that the ant is carrying\n",
    "                            if len(ant.object.objects) <= len(zero_cluster.objects):\n",
    "                                # Neumann drop the cluster             \n",
    "                                success, temp_grid = Von_Neumann_drop(ant)\n",
    "                                print(success)\n",
    "                    grid = temp_grid\n",
    "                    ant.drop()\n",
    "                    clusters, cluster_grid, zero_clusters, zero_cluster_grid = calculate_clusters(grid)\n",
    "        \n",
    "        ant.move(ants)\n",
    "        # merge adjacent clusters of same type by recalculating\n",
    "        clusters, cluster_grid, zero_clusters, zero_cluster_grid = calculate_clusters(grid)\n",
    "    \n",
    "    if t % 1000 == 0:\n",
    "        grids.append(np.copy(grid))\n",
    "\n",
    "print(\"Done\")        \n",
    "        \n",
    "# force the ants to drop at the end of the simulation\n",
    "for ant in ants:\n",
    "    if ant.laden:        \n",
    "        success = False\n",
    "        while not success:\n",
    "            ant.move(ants)\n",
    "            # make sure the grid is empty and the ant is adjacent to a cluster of the same type\n",
    "            if grid[ant.x, ant.y] == 0 and drop_probability(local_density(ant.x, ant.y, ant.object.object_type, grid)) > 0:                \n",
    "                # find the zero cluster that the ant is currently in\n",
    "                for zero_cluster in zero_clusters:\n",
    "                    if (ant.x, ant.y) in zero_cluster.positions:\n",
    "                        break    \n",
    "                # only drop if the free space (zero cluster) is large enough to hold the cluster that the ant is carrying\n",
    "                if len(ant.object.objects) <= len(zero_cluster.objects):\n",
    "                    # Neumann drop the cluster             \n",
    "                    success, temp_grid = Von_Neumann_drop(ant)\n",
    "                    print(success)\n",
    "        grid = temp_grid\n",
    "        ant.drop()\n",
    "        clusters, cluster_grid, zero_clusters, zero_cluster_grid = calculate_clusters(grid)"
   ]
  },
  {
   "cell_type": "code",
   "execution_count": 300,
   "id": "644e2c8d",
   "metadata": {},
   "outputs": [
    {
     "data": {
      "image/png": "[encoded data removed]",
      "text/plain": [
       "<Figure size 432x288 with 1 Axes>"
      ]
     },
     "metadata": {
      "needs_background": "light"
     },
     "output_type": "display_data"
    }
   ],
   "source": [
    "plt.imshow(grid, cmap = matplotlib.colors.ListedColormap(['k', 'r', 'y', 'b', 'w', 'g']));"
   ]
  },
  {
   "cell_type": "code",
   "execution_count": 301,
   "id": "497c1c78",
   "metadata": {},
   "outputs": [
    {
     "data": {
      "text/plain": [
       "10"
      ]
     },
     "execution_count": 301,
     "metadata": {},
     "output_type": "execute_result"
    }
   ],
   "source": [
    "sum(sum(original_grid != 0))"
   ]
  },
  {
   "cell_type": "code",
   "execution_count": 302,
   "id": "9e490b6b",
   "metadata": {},
   "outputs": [
    {
     "data": {
      "text/plain": [
       "12"
      ]
     },
     "execution_count": 302,
     "metadata": {},
     "output_type": "execute_result"
    }
   ],
   "source": [
    "sum(sum(grid != 0))"
   ]
  },
  {
   "cell_type": "markdown",
   "id": "81c8fbe5",
   "metadata": {},
   "source": [
    "### Cluster distances"
   ]
  },
  {
   "cell_type": "code",
   "execution_count": 304,
   "id": "2adf07dc",
   "metadata": {},
   "outputs": [],
   "source": [
    "def cluster_distances(clusters):\n",
    "    \n",
    "    # cluster distance matrix, contains the minimum euclidean distance between 2 clusters\n",
    "    D = np.zeros((len(clusters), len(clusters)))\n",
    "\n",
    "    # all pairwise cluster combinations\n",
    "    comb = combinations([i for i in range(len(clusters))], 2)\n",
    "\n",
    "    # for each cluster combination\n",
    "    for i, j in comb:\n",
    "        A = clusters[i]\n",
    "        B = clusters[j]\n",
    "        d_min = grid_size\n",
    "        # loop over every position in each of the clusters to find the closest objects\n",
    "        for k in range(len(A.objects)):\n",
    "            for l in range(len(B.objects)):\n",
    "                a = A.positions[k]\n",
    "                b = B.positions[l]\n",
    "                # euclidean distance\n",
    "                d = dist(a, b)\n",
    "                if d < d_min:\n",
    "                    d_min = d\n",
    "        # symmetric\n",
    "        D[i, j] = d_min\n",
    "        D[j, i] = D[i, j]\n",
    "        \n",
    "    return D"
   ]
  },
  {
   "cell_type": "code",
   "execution_count": 306,
   "id": "df9dfd81",
   "metadata": {},
   "outputs": [],
   "source": [
    "D = cluster_distances(clusters)"
   ]
  },
  {
   "cell_type": "code",
   "execution_count": 347,
   "id": "f6d0e0c6",
   "metadata": {},
   "outputs": [],
   "source": [
    "def type_distances(clusters, D):\n",
    "    \n",
    "    # the clusters and their types\n",
    "    cluster_types = [(i, int(clusters[i].object_type)) for i in range(len(clusters))]\n",
    "    \n",
    "    # all types\n",
    "    types = set([int(cluster.object_type) for cluster in clusters])\n",
    "\n",
    "    # type distance matrix, contains the average distance between the colors/cluster types\n",
    "    T = np.zeros((len(types), len(types)))\n",
    "\n",
    "    # all pairwise type combinations, including to the same type\n",
    "    comb = combinations_with_replacement(types, 2)\n",
    "    \n",
    "    # for each type combination\n",
    "    for i, j in comb:\n",
    "        # find the clusters of those types\n",
    "        A = [cluster[0] for cluster in cluster_types if cluster[1] == i]\n",
    "        B = [cluster[0] for cluster in cluster_types if cluster[1] == j]\n",
    "        d = 0\n",
    "        n = 0\n",
    "        # for all combinations of those different type clusters, retrieve the distance from distance matrix\n",
    "        for a in A:\n",
    "            for b in B:\n",
    "                d += D[a, b]\n",
    "                n += 1\n",
    "        # divide total distance by amount of combinations => average distance\n",
    "        T[i-1, j-1] = d/n\n",
    "        T[j-1, i-1] = T[i-1, j-1]\n",
    "        \n",
    "        # average distance of the red cluster to all other colored clusters (non-red)\n",
    "        av_d_r_o = np.mean(T[0, 1:])\n",
    "        # average distance of the red cluster to same colored clusters (red)\n",
    "        av_d_r_s = np.mean(T[0, 0])\n",
    "        # average distance of all clusters to all other colored clusters\n",
    "        av_d_a_o = (T.sum(axis=1) - T.diagonal()).sum()/(len(types)-1)**2\n",
    "        # average distance of all clusters to all same colored clusters\n",
    "        av_d_a_s = np.mean(np.diagonal(T))\n",
    "        \n",
    "    return T, av_d_r_o, av_d_r_s, av_d_a_o, av_d_a_s"
   ]
  },
  {
   "cell_type": "code",
   "execution_count": 348,
   "id": "d54387c6",
   "metadata": {},
   "outputs": [],
   "source": [
    "T, av_d_r_o, av_d_r_s, av_d_a_o, av_d_a_s = type_distances(clusters, D)"
   ]
  },
  {
   "cell_type": "code",
   "execution_count": 349,
   "id": "9975f7ef",
   "metadata": {},
   "outputs": [
    {
     "data": {
      "text/plain": [
       "(3.1747932047085214, 0.0)"
      ]
     },
     "execution_count": 349,
     "metadata": {},
     "output_type": "execute_result"
    }
   ],
   "source": [
    "av_d_a_o, av_d_a_s"
   ]
  },
  {
   "cell_type": "markdown",
   "id": "3867e652",
   "metadata": {},
   "source": [
    "## Continuous vector sorting"
   ]
  },
  {
   "cell_type": "code",
   "execution_count": null,
   "id": "8f5deb27",
   "metadata": {},
   "outputs": [],
   "source": [
    "# downloading iris dataset\n",
    "from urllib.request import urlretrieve\n",
    "import pandas as pd\n",
    "iris = 'http://archive.ics.uci.edu/ml/machine-learning-databases/iris/iris.data'\n",
    "urlretrieve(iris)\n",
    "df = pd.read_csv(iris, sep=',')\n",
    "attributes = [\"sepal_length\", \"sepal_width\", \"petal_length\", \"petal_width\", \"class\"]\n",
    "df.columns = attributes"
   ]
  },
  {
   "cell_type": "code",
   "execution_count": null,
   "id": "92e73cf9",
   "metadata": {},
   "outputs": [],
   "source": [
    "df.head()"
   ]
  },
  {
   "cell_type": "code",
   "execution_count": null,
   "id": "f4716627",
   "metadata": {},
   "outputs": [],
   "source": [
    "# convert class to a number\n",
    "df['class_n'] = [i[0] for j in df['class'] for i in enumerate(set(df['class'])) if j == i[1]]"
   ]
  },
  {
   "cell_type": "code",
   "execution_count": null,
   "id": "896a6bca",
   "metadata": {},
   "outputs": [],
   "source": [
    "df.head()"
   ]
  },
  {
   "cell_type": "code",
   "execution_count": null,
   "id": "7009b368",
   "metadata": {},
   "outputs": [],
   "source": [
    "# dissimilarity matrix between each sample vector\n",
    "DIS = np.zeros((len(df), len(df)))\n",
    "\n",
    "comb = combinations(df.index, 2)\n",
    "\n",
    "vectors = df[['sepal_length', 'sepal_width', 'petal_length', 'petal_width']].to_numpy()\n",
    "\n",
    "for i, j in comb:\n",
    "    # euclidean distance as dissimilarity measure\n",
    "    DIS[i, j] = dist(vectors[i],  vectors[j])\n",
    "    DIS[j, i] = DIS[i, j]\n",
    "    \n",
    "# normalize matrix between 0 and 1\n",
    "DIS = DIS/DIS.max()"
   ]
  },
  {
   "cell_type": "code",
   "execution_count": null,
   "id": "4b8f73ce",
   "metadata": {},
   "outputs": [],
   "source": [
    "plt.hist(DIS.flatten());"
   ]
  },
  {
   "cell_type": "code",
   "execution_count": null,
   "id": "0add0c9a",
   "metadata": {},
   "outputs": [],
   "source": [
    "np.mean(DIS.flatten())"
   ]
  },
  {
   "cell_type": "code",
   "execution_count": null,
   "id": "c5f5e446",
   "metadata": {},
   "outputs": [],
   "source": [
    "def vector_dissimilarity(vector_o, vector_n):\n",
    "    \"\"\"calculate dissimilarity between vector objects\"\"\"\n",
    "    dis = DIS[vector_o - 1, vector_n - 1]\n",
    "    return dis"
   ]
  },
  {
   "cell_type": "code",
   "execution_count": null,
   "id": "988463f4",
   "metadata": {},
   "outputs": [],
   "source": [
    "def vector_local_density(x, y, object, grid):\n",
    "    \"\"\"calculate local density\n",
    "        x, y = coordinates of the cell\n",
    "        object = object the ant is holding\"\"\"\n",
    "    \n",
    "    neighbourhood = von_neumann_neighbourhood(x, y)\n",
    "    s2 = len(neighbourhood) + 1\n",
    "    similarity = 0\n",
    "    \n",
    "    for x_n, y_n in neighbourhood:\n",
    "        similarity += 1 - vector_dissimilarity(object, grid[x_n, y_n])/alpha\n",
    "        \n",
    "    return max(0, similarity/s2)"
   ]
  },
  {
   "cell_type": "code",
   "execution_count": null,
   "id": "04eaade3",
   "metadata": {},
   "outputs": [],
   "source": [
    "def run_vector_simulation(original_grid, ants):\n",
    "\n",
    "    grids = []\n",
    "    grid = np.copy(original_grid)\n",
    "\n",
    "    for t in range(1, t_total+1):\n",
    "        for ant in ants:\n",
    "\n",
    "            if (ant.laden == False) & (grid[ant.x, ant.y] != 0):\n",
    "                p_pickup = pickup_probability(vector_local_density(ant.x, ant.y, grid[ant.x, ant.y], grid))\n",
    "\n",
    "                if random.random() <= p_pickup:\n",
    "                    ant.pickup(grid[ant.x, ant.y])\n",
    "                    grid[ant.x, ant.y] = 0\n",
    "\n",
    "            elif (ant.laden == True) & (grid[ant.x, ant.y] == 0):\n",
    "                p_drop = drop_probability(vector_local_density(ant.x, ant.y, ant.object, grid))\n",
    "\n",
    "                if random.random() <= p_drop:\n",
    "                    grid[ant.x, ant.y] = ant.object\n",
    "                    ant.drop()\n",
    "\n",
    "            ant.move(ants)\n",
    "\n",
    "        if t % 1000 == 0:\n",
    "            grids.append(np.copy(grid))\n",
    "\n",
    "    for ant in ants:\n",
    "        while ant.laden:\n",
    "            if grid[ant.x, ant.y] == 0:\n",
    "                grid[ant.x, ant.y] = ant.object\n",
    "                ant.drop()\n",
    "            else:\n",
    "                ant.move(ants)\n",
    "\n",
    "    return grid, grids"
   ]
  },
  {
   "cell_type": "code",
   "execution_count": null,
   "id": "792f775f",
   "metadata": {},
   "outputs": [],
   "source": [
    "grid_size = 10\n",
    "ant_density = 0.05\n",
    "object_density = 0.25\n",
    "n_object_types = len(df)\n",
    "t_total = 10000\n",
    "k1 = 0.1\n",
    "k2 = 0.15\n",
    "alpha = 0.7"
   ]
  },
  {
   "cell_type": "code",
   "execution_count": null,
   "id": "a639bc28",
   "metadata": {},
   "outputs": [],
   "source": [
    "original_grid, ants = initiate_grid(grid_size, ant_density, object_density, n_object_types)"
   ]
  },
  {
   "cell_type": "code",
   "execution_count": null,
   "id": "825d6a28",
   "metadata": {},
   "outputs": [],
   "source": [
    "# color the objects according to their flower class\n",
    "original_class_grid = np.zeros((grid_size, grid_size), dtype=int)\n",
    "for x in range(grid_size):\n",
    "    for y in range(grid_size):\n",
    "        if original_grid[x, y] != 0:\n",
    "            original_class_grid[x, y] = int(df['class_n'].loc[[original_grid[x, y] - 1]]) + 1\n",
    "            \n",
    "plt.imshow(original_class_grid, cmap = matplotlib.colors.ListedColormap(['k', 'r', 'y', 'b']));"
   ]
  },
  {
   "cell_type": "code",
   "execution_count": null,
   "id": "efed1f05",
   "metadata": {},
   "outputs": [],
   "source": [
    "grid, grids = run_simulation(original_grid, ants)"
   ]
  },
  {
   "cell_type": "code",
   "execution_count": null,
   "id": "3f17fc0d",
   "metadata": {},
   "outputs": [],
   "source": [
    "# color the objects according to their flower class\n",
    "class_grid = np.zeros((grid_size, grid_size), dtype=int)\n",
    "for x in range(grid_size):\n",
    "    for y in range(grid_size):\n",
    "        if grid[x, y] != 0:\n",
    "            class_grid[x, y] = int(df['class_n'].loc[[grid[x, y] - 1]]) + 1\n",
    "            \n",
    "plt.imshow(class_grid, cmap = matplotlib.colors.ListedColormap(['k', 'r', 'y', 'b']));"
   ]
  },
  {
   "cell_type": "code",
   "execution_count": null,
   "id": "b2139106",
   "metadata": {},
   "outputs": [],
   "source": []
  },
  {
   "cell_type": "code",
   "execution_count": null,
   "id": "698a1ad3",
   "metadata": {},
   "outputs": [],
   "source": []
  },
  {
   "cell_type": "code",
   "execution_count": null,
   "id": "174b0bc0",
   "metadata": {},
   "outputs": [],
   "source": []
  }
 ],
 "metadata": {
  "kernelspec": {
   "display_name": "Python 3 (ipykernel)",
   "language": "python",
   "name": "python3"
  },
  "language_info": {
   "codemirror_mode": {
    "name": "ipython",
    "version": 3
   },
   "file_extension": ".py",
   "mimetype": "text/x-python",
   "name": "python",
   "nbconvert_exporter": "python",
   "pygments_lexer": "ipython3",
   "version": "3.9.7"
  }
 },
 "nbformat": 4,
 "nbformat_minor": 5
}
