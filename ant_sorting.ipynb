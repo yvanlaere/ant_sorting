{
 "cells": [
  {
   "cell_type": "markdown",
   "id": "34c26ef5-89bd-4757-bff9-cfd720962e83",
   "metadata": {},
   "source": [
    "# Ant sorting"
   ]
  },
  {
   "cell_type": "code",
   "execution_count": 1,
   "id": "1687b1a1-9d8a-45e1-ba4c-a565306cbdcc",
   "metadata": {},
   "outputs": [],
   "source": [
    "import numpy as np\n",
    "import random\n",
    "import matplotlib.pyplot as plt\n",
    "import matplotlib\n",
    "from itertools import combinations, combinations_with_replacement\n",
    "from math import dist"
   ]
  },
  {
   "cell_type": "code",
   "execution_count": 2,
   "id": "abaca604-c7af-41aa-95fa-fce73abfbdff",
   "metadata": {},
   "outputs": [],
   "source": [
    "class Ant:\n",
    "    \"\"\"Agent that moves object on the grid\"\"\"\n",
    "    \n",
    "    def __init__(self, x, y):\n",
    "        self.x = x\n",
    "        self.y = y\n",
    "        self.object = 0\n",
    "        self.laden = False\n",
    "\n",
    "    def pickup(self, object):\n",
    "        self.object = object\n",
    "        self.laden = True\n",
    "        \n",
    "    def drop(self):\n",
    "        self.object = 0\n",
    "        self.laden = False\n",
    "        \n",
    "    def move(self, ants):\n",
    "        neighbours = von_neumann_neighbourhood(self.x, self.y)\n",
    "        # 2 ants can't occupy the same cell\n",
    "        for ant in ants:\n",
    "            if (ant.x, ant.y) in neighbours:\n",
    "                neighbours.remove((ant.x, ant.y))\n",
    "        if len(neighbours) >= 1:\n",
    "            self.x, self.y = neighbours[random.randint(0, len(neighbours) - 1)]\n",
    "        "
   ]
  },
  {
   "cell_type": "code",
   "execution_count": 3,
   "id": "9dd75926-8491-4745-bf2e-3045735ba586",
   "metadata": {},
   "outputs": [],
   "source": [
    "def von_neumann_neighbourhood(x, y):\n",
    "    \"\"\"return coordinates of all cells in the Von Neumann neighbourhood of the input cell\"\"\"\n",
    "    \n",
    "    neighbours = []\n",
    "    if x - 1 >= 0:\n",
    "        neighbours.append((x - 1, y))\n",
    "    if x + 1 < grid_size:\n",
    "        neighbours.append((x + 1, y))\n",
    "    if y - 1 >= 0:\n",
    "        neighbours.append((x, y - 1))\n",
    "    if y + 1 < grid_size:\n",
    "        neighbours.append((x, y + 1))\n",
    "        \n",
    "    return neighbours"
   ]
  },
  {
   "cell_type": "code",
   "execution_count": 4,
   "id": "512d612f-0056-434c-ad08-338c1aed2e28",
   "metadata": {},
   "outputs": [],
   "source": [
    "def dissimilarity(object_o, object_n):\n",
    "    \"\"\"calculate dissimilarity between objects\"\"\"\n",
    "    if object_o == object_n:\n",
    "        dis = 0\n",
    "    else:\n",
    "        dis = 1\n",
    "    return dis"
   ]
  },
  {
   "cell_type": "code",
   "execution_count": 5,
   "id": "16404036-5450-44fb-aafa-d14b6da05139",
   "metadata": {},
   "outputs": [],
   "source": [
    "def local_density(x, y, object, grid, alpha):\n",
    "    \"\"\"calculate local density\n",
    "        x, y = coordinates of the cell\n",
    "        object = object the ant is holding\"\"\"\n",
    "    \n",
    "    neighbourhood = von_neumann_neighbourhood(x, y)\n",
    "    s2 = len(neighbourhood) + 1\n",
    "    similarity = 0\n",
    "    \n",
    "    for x_n, y_n in neighbourhood:\n",
    "        similarity += 1 - dissimilarity(object, grid[x_n, y_n])/alpha\n",
    "        \n",
    "    return max(0, similarity/s2)"
   ]
  },
  {
   "cell_type": "code",
   "execution_count": 6,
   "id": "f6863c84-8d4e-47e6-95c3-6eb883805c6b",
   "metadata": {},
   "outputs": [],
   "source": [
    "def pickup_probability(local_density, k1):\n",
    "    \"\"\"calculate pickup probability\"\"\"\n",
    "    \n",
    "    return (k1/(k1 + local_density))**2"
   ]
  },
  {
   "cell_type": "code",
   "execution_count": 7,
   "id": "0f6b4718-1ac8-4d48-8a33-b098974410f6",
   "metadata": {},
   "outputs": [],
   "source": [
    "def drop_probability(local_density, k2):\n",
    "    \"\"\"calculate drop probability\"\"\"\n",
    "    \n",
    "    if local_density < k2:\n",
    "        probability = 2*local_density\n",
    "    else:\n",
    "        probability = 1\n",
    "        \n",
    "    return probability"
   ]
  },
  {
   "cell_type": "markdown",
   "id": "a048462f-f009-4023-a01e-e44c4b33b2ce",
   "metadata": {},
   "source": [
    "## Simulation"
   ]
  },
  {
   "cell_type": "code",
   "execution_count": 8,
   "id": "e1cb0f47-9c73-4e71-908e-fd6afb188aea",
   "metadata": {},
   "outputs": [],
   "source": [
    "grid_size = 25\n",
    "ant_density = 0.05\n",
    "object_density = 0.25\n",
    "n_object_types = 5\n",
    "t_total = 10000\n",
    "k1 = 0.1\n",
    "k2 = 0.15\n",
    "alpha = 0.95"
   ]
  },
  {
   "cell_type": "code",
   "execution_count": 9,
   "id": "2a35c79c",
   "metadata": {},
   "outputs": [],
   "source": [
    "def initiate_grid(grid_size, object_density, n_object_types):\n",
    "    \"\"\"intiate the grid with objects\"\"\"\n",
    "    \n",
    "    grid = np.zeros((grid_size, grid_size), dtype=int)\n",
    "    n_objects = int(object_density*grid_size**2)\n",
    "    \n",
    "    for object in range(n_objects):\n",
    "        color = random.randint(1, n_object_types)\n",
    "        x = random.randint(0, grid_size - 1)\n",
    "        y = random.randint(0, grid_size - 1)\n",
    "        grid[x, y] = color\n",
    "        \n",
    "    print(f\"There are {n_objects} objects on the grid.\")    \n",
    "    return grid"
   ]
  },
  {
   "cell_type": "code",
   "execution_count": 10,
   "id": "8b606b1b",
   "metadata": {},
   "outputs": [],
   "source": [
    "def initiate_ants(grid_size, ant_density):\n",
    "    \"\"\"intiate the ants\"\"\"\n",
    "\n",
    "    n_ants = int(ant_density*grid_size**2)\n",
    "        \n",
    "    ants = []\n",
    "    for ant in range(n_ants):\n",
    "        x = random.randint(0, grid_size - 1)\n",
    "        y = random.randint(0, grid_size - 1)\n",
    "        ants.append(Ant(x, y))\n",
    "        \n",
    "    print(f\"There are {n_ants} ants on the grid.\")    \n",
    "    return ants"
   ]
  },
  {
   "cell_type": "code",
   "execution_count": 11,
   "id": "de635cc3-5473-4aa6-a95f-83f430b7dc38",
   "metadata": {},
   "outputs": [
    {
     "name": "stdout",
     "output_type": "stream",
     "text": [
      "There are 156 objects on the grid.\n"
     ]
    }
   ],
   "source": [
    "original_grid = initiate_grid(grid_size, object_density, n_object_types)"
   ]
  },
  {
   "cell_type": "code",
   "execution_count": 12,
   "id": "c9113c17",
   "metadata": {},
   "outputs": [
    {
     "name": "stdout",
     "output_type": "stream",
     "text": [
      "There are 31 ants on the grid.\n"
     ]
    }
   ],
   "source": [
    "ants = initiate_ants(grid_size, ant_density)"
   ]
  },
  {
   "cell_type": "code",
   "execution_count": 13,
   "id": "563510a6-423f-490c-9632-84dc2921ec10",
   "metadata": {},
   "outputs": [
    {
     "data": {
      "image/png": "[encoded data removed]",
      "text/plain": [
       "<Figure size 432x288 with 1 Axes>"
      ]
     },
     "metadata": {
      "needs_background": "light"
     },
     "output_type": "display_data"
    }
   ],
   "source": [
    "plt.imshow(original_grid, cmap = matplotlib.colors.ListedColormap(['k', 'r', 'y', 'b', 'w', 'g']));"
   ]
  },
  {
   "cell_type": "code",
   "execution_count": null,
   "id": "82fef59d",
   "metadata": {},
   "outputs": [],
   "source": [
    "densities = []\n",
    "for color in range(n_object_types):\n",
    "    for x in range(grid_size):\n",
    "        for y in range(grid_size):\n",
    "            densities.append(local_density(x, y, color, original_grid, alpha))\n",
    "plt.hist(densities); print(\"The local density distribution for all colors in the original grid\")"
   ]
  },
  {
   "cell_type": "code",
   "execution_count": 15,
   "id": "8605054f-a764-4e0a-bfe2-9d882b2fbd9e",
   "metadata": {},
   "outputs": [],
   "source": [
    "def run_simulation(original_grid, ants, t_total, k1, k2, alpha):\n",
    "\n",
    "    grids = []\n",
    "    grid = np.copy(original_grid)\n",
    "    grids.append(np.copy(grid))\n",
    "\n",
    "    for t in range(1, t_total):\n",
    "        for ant in ants:\n",
    "\n",
    "            if (ant.laden == False) & (grid[ant.x, ant.y] != 0):\n",
    "                p_pickup = pickup_probability(local_density(ant.x, ant.y, grid[ant.x, ant.y], grid, alpha), k1)\n",
    "\n",
    "                if random.random() <= p_pickup:\n",
    "                    ant.pickup(grid[ant.x, ant.y])\n",
    "                    grid[ant.x, ant.y] = 0\n",
    "\n",
    "            elif (ant.laden == True) & (grid[ant.x, ant.y] == 0):\n",
    "                p_drop = drop_probability(local_density(ant.x, ant.y, ant.object, grid, alpha), k2)\n",
    "\n",
    "                if random.random() <= p_drop:\n",
    "                    grid[ant.x, ant.y] = ant.object\n",
    "                    ant.drop()\n",
    "\n",
    "            ant.move(ants)\n",
    "\n",
    "        if t % 1000 == 0:\n",
    "            grids.append(np.copy(grid))\n",
    "\n",
    "    # forcing ants to drop their objects in place after simulation\n",
    "    for ant in ants:\n",
    "        while ant.laden:\n",
    "            if grid[ant.x, ant.y] == 0:\n",
    "                grid[ant.x, ant.y] = ant.object\n",
    "                ant.drop()\n",
    "            else:\n",
    "                ant.move(ants)\n",
    "                \n",
    "    grids.append(np.copy(grid))\n",
    "            \n",
    "    return grid, grids"
   ]
  },
  {
   "cell_type": "code",
   "execution_count": 16,
   "id": "244029fa",
   "metadata": {},
   "outputs": [],
   "source": [
    "grid, grids0 = run_simulation(original_grid, ants, t_total, k1, k2, alpha)"
   ]
  },
  {
   "cell_type": "code",
   "execution_count": 17,
   "id": "96018c09",
   "metadata": {},
   "outputs": [
    {
     "data": {
      "image/png": "[encoded data removed]",
      "text/plain": [
       "<Figure size 432x288 with 1 Axes>"
      ]
     },
     "metadata": {
      "needs_background": "light"
     },
     "output_type": "display_data"
    }
   ],
   "source": [
    "plt.imshow(grid, cmap = matplotlib.colors.ListedColormap(['k', 'r', 'y', 'b', 'w', 'g']));"
   ]
  },
  {
   "cell_type": "markdown",
   "id": "0c86e0a3-0372-41a3-8b36-bd6f45fdd559",
   "metadata": {},
   "source": [
    "# Clustered ant sorting"
   ]
  },
  {
   "cell_type": "code",
   "execution_count": 18,
   "id": "b808e02a-1460-4f2c-aa3a-d789280734ea",
   "metadata": {},
   "outputs": [],
   "source": [
    "class Cluster:\n",
    "    \"\"\"cluster object\"\"\"\n",
    "    \n",
    "    def __init__(self):\n",
    "        self.x = []\n",
    "        self.y = []\n",
    "        self.positions = []\n",
    "        self.objects = []\n",
    "\n",
    "    def add_object(self, x, y, object):\n",
    "        self.x.append(x)\n",
    "        self.y.append(y)\n",
    "        self.positions.append((x, y))\n",
    "        self.objects.append(object)"
   ]
  },
  {
   "cell_type": "code",
   "execution_count": 19,
   "id": "b8f930a3",
   "metadata": {},
   "outputs": [],
   "source": [
    "def calculate_clusters(grid):\n",
    "    \"\"\"Converts object into clusters, adjacent objects of the same type are put into the same cluster\"\"\"\n",
    "    \n",
    "    # clusters for objects\n",
    "    clusters = []\n",
    "    cluster_grid = np.zeros((grid_size, grid_size), dtype=int)\n",
    "    # clusters for zeros\n",
    "    zero_clusters = []\n",
    "    zero_cluster_grid = np.zeros((grid_size, grid_size), dtype=int)\n",
    "    \n",
    "    #iterate over all grid cells\n",
    "    for x in range(grid_size):\n",
    "        for y in range(grid_size):\n",
    "            \n",
    "            # if it's an object\n",
    "            if grid[x, y] != 0:\n",
    "\n",
    "                # if the object is not in a cluster\n",
    "                if cluster_grid[x, y] == 0:\n",
    "\n",
    "                    # make a cluster\n",
    "                    clusters.append(Cluster())\n",
    "                    clusters[len(clusters) - 1].add_object(x, y, grid[x, y])\n",
    "                    cluster_grid[x, y] = len(clusters)\n",
    "\n",
    "                    # add neighboring positions to the cluster using greedy search\n",
    "                    done = False\n",
    "                    already_seen = []\n",
    "                    while not done:\n",
    "                        added = 0\n",
    "                        for x_i, y_i in clusters[len(clusters) - 1].positions:\n",
    "                            if (x_i, y_i) not in already_seen:\n",
    "                                already_seen.append((x_i, y_i))\n",
    "                                neighbors = von_neumann_neighbourhood(x_i, y_i)\n",
    "                                same_type = [n for n in neighbors if grid[n[0], n[1]] == clusters[len(clusters) - 1].objects[0]]\n",
    "                                for s in same_type:\n",
    "                                    clusters[len(clusters) - 1].add_object(s[0], s[1], grid[s[0], s[1]])\n",
    "                                    cluster_grid[s[0], s[1]] = len(clusters)\n",
    "                                    added += 1\n",
    "                        if added == 0:\n",
    "                            done = True\n",
    "\n",
    "            # if it's not an object, make clusters of zeros (the free space), useful for dropping clusters later on\n",
    "            else:\n",
    "                # if it's is not in a cluster\n",
    "                if zero_cluster_grid[x, y] == 0:\n",
    "\n",
    "                    # make a cluster\n",
    "                    zero_clusters.append(Cluster())\n",
    "                    zero_clusters[len(zero_clusters) - 1].add_object(x, y, grid[x, y])\n",
    "                    zero_cluster_grid[x, y] = len(zero_clusters)\n",
    "\n",
    "                    # add neighboring positions to the cluster using greedy search\n",
    "                    done = False\n",
    "                    already_seen = []\n",
    "                    while not done:\n",
    "                        added = 0\n",
    "                        for x_i, y_i in zero_clusters[len(zero_clusters) - 1].positions:\n",
    "                            if (x_i, y_i) not in already_seen:\n",
    "                                already_seen.append((x_i, y_i))\n",
    "                                neighbors = von_neumann_neighbourhood(x_i, y_i)\n",
    "                                same_type = [n for n in neighbors if grid[n[0], n[1]] == 0]\n",
    "                                for s in same_type:\n",
    "                                    zero_clusters[len(zero_clusters) - 1].add_object(s[0], s[1], grid[s[0], s[1]])\n",
    "                                    zero_cluster_grid[s[0], s[1]] = len(zero_clusters)\n",
    "                                    added += 1\n",
    "                        if added == 0:\n",
    "                            done = True\n",
    "\n",
    "        \n",
    "                          \n",
    "    return clusters, cluster_grid, zero_clusters, zero_cluster_grid"
   ]
  },
  {
   "cell_type": "code",
   "execution_count": 20,
   "id": "037ce553-a01e-4f88-b375-591a900de25d",
   "metadata": {},
   "outputs": [],
   "source": [
    "clusters, cluster_grid, zero_clusters, zero_cluster_grid = calculate_clusters(grid)"
   ]
  },
  {
   "cell_type": "code",
   "execution_count": 21,
   "id": "06c9a2c0-eaac-4143-9f0c-27c6df558c9c",
   "metadata": {},
   "outputs": [
    {
     "data": {
      "text/plain": [
       "28"
      ]
     },
     "execution_count": 21,
     "metadata": {},
     "output_type": "execute_result"
    }
   ],
   "source": [
    "len(clusters)"
   ]
  },
  {
   "cell_type": "code",
   "execution_count": 22,
   "id": "152b894d-fd8c-446d-92dd-09d08f4a6afa",
   "metadata": {},
   "outputs": [
    {
     "data": {
      "image/png": "[encoded data removed]",
      "text/plain": [
       "<Figure size 432x288 with 1 Axes>"
      ]
     },
     "metadata": {
      "needs_background": "light"
     },
     "output_type": "display_data"
    }
   ],
   "source": [
    "plt.imshow(grid, cmap = matplotlib.colors.ListedColormap(['k', 'r', 'y', 'b', 'w', 'g']));"
   ]
  },
  {
   "cell_type": "code",
   "execution_count": 23,
   "id": "9c7578b3-3093-4ec3-bd7e-6b824294eb86",
   "metadata": {},
   "outputs": [
    {
     "data": {
      "image/png": "[encoded data removed]",
      "text/plain": [
       "<Figure size 432x288 with 1 Axes>"
      ]
     },
     "metadata": {
      "needs_background": "light"
     },
     "output_type": "display_data"
    }
   ],
   "source": [
    "plt.imshow(cluster_grid);"
   ]
  },
  {
   "cell_type": "code",
   "execution_count": 24,
   "id": "5b742d30",
   "metadata": {},
   "outputs": [
    {
     "data": {
      "text/plain": [
       "1"
      ]
     },
     "execution_count": 24,
     "metadata": {},
     "output_type": "execute_result"
    }
   ],
   "source": [
    "len(zero_clusters)"
   ]
  },
  {
   "cell_type": "code",
   "execution_count": 25,
   "id": "77d8ab9e",
   "metadata": {},
   "outputs": [
    {
     "data": {
      "image/png": "[encoded data removed]",
      "text/plain": [
       "<Figure size 432x288 with 1 Axes>"
      ]
     },
     "metadata": {
      "needs_background": "light"
     },
     "output_type": "display_data"
    }
   ],
   "source": [
    "plt.imshow(zero_cluster_grid);"
   ]
  },
  {
   "cell_type": "code",
   "execution_count": 26,
   "id": "6f71ac4f",
   "metadata": {
    "tags": []
   },
   "outputs": [],
   "source": [
    "def Von_Neumann_drop(ant, grid, alpha): \n",
    "    \"\"\"Von Neumann drop method to drop clusters\"\"\"\n",
    "    success = True\n",
    "    \n",
    "    #get location of ant\n",
    "    x, y = ant.x, ant.y\n",
    "    \n",
    "    previous_positions = [(x, y)]\n",
    "    \n",
    "    #virtual drop of first object in cluster\n",
    "    temp_grid = np.copy(grid)\n",
    "    temp_grid[x, y] = ant.object.objects[0]\n",
    "    \n",
    "    #iterative virtual drops of next objects in cluster\n",
    "    for i in range(1, len(ant.object.objects)):\n",
    "        \n",
    "        #get location of all neighbours\n",
    "        neighbours = von_neumann_neighbourhood(x, y)\n",
    "        max_s = 0\n",
    "        max_x = float(\"nan\")\n",
    "        max_y = float(\"nan\")\n",
    "\n",
    "        #iterate over neighbours\n",
    "        for x_n, y_n in neighbours:\n",
    "            #if cell is empty \n",
    "            if temp_grid[x_n, y_n] == 0:\n",
    "                #calculate local density of next object in cluster\n",
    "                s = local_density(x_n, y_n, ant.object.objects[i], temp_grid, alpha)\n",
    "                #check if this neighbour is the current best neighbour\n",
    "                if s > max_s:\n",
    "                    max_s = s\n",
    "                    max_x = x_n\n",
    "                    max_y = y_n\n",
    "        \n",
    "        if np.isnan(max_x) != True:\n",
    "            #virtual drop of object on best neighbour\n",
    "            temp_grid[max_x, max_y] = ant.object.objects[i]\n",
    "        \n",
    "            #\"move\" to the best neighbour\n",
    "            x = max_x\n",
    "            y = max_y\n",
    "            previous_positions = [(max_x, max_y)]\n",
    "            i = 0\n",
    "            \n",
    "        else:\n",
    "            success = False\n",
    "            break\n",
    "            \n",
    "    return success, temp_grid"
   ]
  },
  {
   "cell_type": "markdown",
   "id": "57c73c3e-29cb-43a5-b43d-def9b6044c2c",
   "metadata": {},
   "source": [
    "## Simulation"
   ]
  },
  {
   "cell_type": "code",
   "execution_count": 27,
   "id": "fde075e9-c7e2-4d33-9a31-eaf4d34723d8",
   "metadata": {},
   "outputs": [],
   "source": [
    "def run_cluster_simulation(original_grid, ants, t_total, k1, k2, alpha):\n",
    "\n",
    "    grids = []\n",
    "    grid = np.copy(original_grid)\n",
    "    grids.append(np.copy(grid))\n",
    "    clusters, cluster_grid, zero_clusters, zero_cluster_grid = calculate_clusters(grid)\n",
    "    ant_timer = 0\n",
    "    maxtime = grid_size**2\n",
    "\n",
    "    for t in range(1, t_total):\n",
    "\n",
    "        # keep track of how many timesteps no clusters are dropped for surrounded cluster deadlock\n",
    "        ant_timer += 1\n",
    "\n",
    "        for ant in ants:\n",
    "\n",
    "            # pickup\n",
    "            if (ant.laden == False) and (grid[ant.x, ant.y] != 0):     \n",
    "\n",
    "                # make sure ant doesn't pick up the last cluster of that type to avoid empty grid deadlock\n",
    "                if sum([grid[ant.x, ant.y] == cluster.objects[0] for cluster in clusters]) > 1: \n",
    "\n",
    "                    p_pickup = pickup_probability(local_density(ant.x, ant.y, grid[ant.x, ant.y], grid, alpha), k1)            \n",
    "                    if random.random() <= p_pickup:\n",
    "                        cluster = clusters[int(cluster_grid[ant.x, ant.y]) - 1]\n",
    "                        ant.pickup(cluster)          \n",
    "\n",
    "                        # remove cluster & objects from the grid\n",
    "                        for i in range(len(cluster.positions)):\n",
    "                            grid[cluster.x[i], cluster.y[i]] = 0     \n",
    "\n",
    "            # drop\n",
    "            elif (ant.laden == True) and (grid[ant.x, ant.y] == 0):          \n",
    "                p_drop = drop_probability(local_density(ant.x, ant.y, ant.object.objects[0], grid, alpha), k2)     \n",
    "                if random.random() <= p_drop: \n",
    "\n",
    "                    # find the zero cluster that the ant is currently in\n",
    "                    for zero_cluster in zero_clusters:\n",
    "                         if (ant.x, ant.y) in zero_cluster.positions:\n",
    "                            break\n",
    "\n",
    "                    # only drop if the free space (zero cluster) is large enough to hold the cluster that the ant is carrying\n",
    "                    if len(ant.object.objects) <= len(zero_cluster.objects):\n",
    "                        # Neumann drop the cluster             \n",
    "                        success, temp_grid = Von_Neumann_drop(ant, grid, alpha)\n",
    "                        if success:\n",
    "                            grid = np.copy(temp_grid)\n",
    "                            ant.drop()\n",
    "                            ant_timer = 0\n",
    "\n",
    "            # if no clusters have been dropped for too long, force ants to walk around until they drop their clusters\n",
    "            # to avoid surrounded cluster deadlock\n",
    "            if ant_timer == maxtime:\n",
    "                ant_timer = 0\n",
    "                for ant in ants:\n",
    "                    if ant.laden:        \n",
    "                        success = False\n",
    "                        while not success:\n",
    "                            ant.move(ants)\n",
    "                            # make sure the grid is empty and the ant is adjacent to a cluster of the same type\n",
    "                            if grid[ant.x, ant.y] == 0 and drop_probability(local_density(ant.x, ant.y, ant.object.objects[0], grid, alpha), k2) > 0:                \n",
    "                                # find the zero cluster that the ant is currently in\n",
    "                                for zero_cluster in zero_clusters:\n",
    "                                    if (ant.x, ant.y) in zero_cluster.positions:\n",
    "                                        break    \n",
    "                                # only drop if the free space (zero cluster) is large enough to hold the cluster that the ant is carrying\n",
    "                                if len(ant.object.objects) <= len(zero_cluster.objects):\n",
    "                                    # Neumann drop the cluster             \n",
    "                                    success, temp_grid = Von_Neumann_drop(ant, grid, alpha)\n",
    "                        grid = np.copy(temp_grid)\n",
    "                        ant.drop()\n",
    "                        clusters, cluster_grid, zero_clusters, zero_cluster_grid = calculate_clusters(grid)\n",
    "\n",
    "            ant.move(ants)\n",
    "            # merge adjacent clusters of same type by recalculating\n",
    "            clusters, cluster_grid, zero_clusters, zero_cluster_grid = calculate_clusters(grid)\n",
    "\n",
    "        if t % 1000 == 0:\n",
    "            grids.append(np.copy(grid))\n",
    "\n",
    "    # force the ants to drop at the end of the simulation\n",
    "    for ant in ants:\n",
    "        if ant.laden:        \n",
    "            success = False\n",
    "            while not success:\n",
    "                ant.move(ants)\n",
    "                # make sure the grid is empty and the ant is adjacent to a cluster of the same type\n",
    "                if grid[ant.x, ant.y] == 0 and drop_probability(local_density(ant.x, ant.y, ant.object.objects[0], grid, alpha), k2) > 0:                \n",
    "                    # find the zero cluster that the ant is currently in\n",
    "                    for zero_cluster in zero_clusters:\n",
    "                        if (ant.x, ant.y) in zero_cluster.positions:\n",
    "                            break    \n",
    "                    # only drop if the free space (zero cluster) is large enough to hold the cluster that the ant is carrying\n",
    "                    if len(ant.object.objects) <= len(zero_cluster.objects):\n",
    "                        # Neumann drop the cluster             \n",
    "                        success, temp_grid = Von_Neumann_drop(ant, grid, alpha)\n",
    "            grid = np.copy(temp_grid)\n",
    "            ant.drop()\n",
    "            clusters, cluster_grid, zero_clusters, zero_cluster_grid = calculate_clusters(grid)\n",
    "    \n",
    "    grids.append(np.copy(grid))\n",
    "        \n",
    "    return grid, grids"
   ]
  },
  {
   "cell_type": "code",
   "execution_count": 28,
   "id": "4b903816",
   "metadata": {},
   "outputs": [
    {
     "name": "stdout",
     "output_type": "stream",
     "text": [
      "There are 31 ants on the grid.\n"
     ]
    },
    {
     "ename": "KeyboardInterrupt",
     "evalue": "",
     "output_type": "error",
     "traceback": [
      "\u001b[0;31m---------------------------------------------------------------------------\u001b[0m",
      "\u001b[0;31mKeyboardInterrupt\u001b[0m                         Traceback (most recent call last)",
      "Input \u001b[0;32mIn [28]\u001b[0m, in \u001b[0;36m<cell line: 2>\u001b[0;34m()\u001b[0m\n\u001b[1;32m      1\u001b[0m ants \u001b[38;5;241m=\u001b[39m initiate_ants(grid_size, ant_density)\n\u001b[0;32m----> 2\u001b[0m grid, grids1 \u001b[38;5;241m=\u001b[39m \u001b[43mrun_cluster_simulation\u001b[49m\u001b[43m(\u001b[49m\u001b[43moriginal_grid\u001b[49m\u001b[43m,\u001b[49m\u001b[43m \u001b[49m\u001b[43mants\u001b[49m\u001b[43m,\u001b[49m\u001b[43m \u001b[49m\u001b[43mt_total\u001b[49m\u001b[43m,\u001b[49m\u001b[43m \u001b[49m\u001b[43mk1\u001b[49m\u001b[43m,\u001b[49m\u001b[43m \u001b[49m\u001b[43mk2\u001b[49m\u001b[43m,\u001b[49m\u001b[43m \u001b[49m\u001b[43malpha\u001b[49m\u001b[43m)\u001b[49m\n",
      "Input \u001b[0;32mIn [27]\u001b[0m, in \u001b[0;36mrun_cluster_simulation\u001b[0;34m(original_grid, ants, t_total, k1, k2, alpha)\u001b[0m\n\u001b[1;32m     57\u001b[0m success \u001b[38;5;241m=\u001b[39m \u001b[38;5;28;01mFalse\u001b[39;00m\n\u001b[1;32m     58\u001b[0m \u001b[38;5;28;01mwhile\u001b[39;00m \u001b[38;5;129;01mnot\u001b[39;00m success:\n\u001b[0;32m---> 59\u001b[0m     \u001b[43mant\u001b[49m\u001b[38;5;241;43m.\u001b[39;49m\u001b[43mmove\u001b[49m\u001b[43m(\u001b[49m\u001b[43mants\u001b[49m\u001b[43m)\u001b[49m\n\u001b[1;32m     60\u001b[0m     \u001b[38;5;66;03m# make sure the grid is empty and the ant is adjacent to a cluster of the same type\u001b[39;00m\n\u001b[1;32m     61\u001b[0m     \u001b[38;5;28;01mif\u001b[39;00m grid[ant\u001b[38;5;241m.\u001b[39mx, ant\u001b[38;5;241m.\u001b[39my] \u001b[38;5;241m==\u001b[39m \u001b[38;5;241m0\u001b[39m \u001b[38;5;129;01mand\u001b[39;00m drop_probability(local_density(ant\u001b[38;5;241m.\u001b[39mx, ant\u001b[38;5;241m.\u001b[39my, ant\u001b[38;5;241m.\u001b[39mobject\u001b[38;5;241m.\u001b[39mobjects[\u001b[38;5;241m0\u001b[39m], grid, alpha), k2) \u001b[38;5;241m>\u001b[39m \u001b[38;5;241m0\u001b[39m:                \n\u001b[1;32m     62\u001b[0m         \u001b[38;5;66;03m# find the zero cluster that the ant is currently in\u001b[39;00m\n",
      "Input \u001b[0;32mIn [2]\u001b[0m, in \u001b[0;36mAnt.move\u001b[0;34m(self, ants)\u001b[0m\n\u001b[1;32m     19\u001b[0m neighbours \u001b[38;5;241m=\u001b[39m von_neumann_neighbourhood(\u001b[38;5;28mself\u001b[39m\u001b[38;5;241m.\u001b[39mx, \u001b[38;5;28mself\u001b[39m\u001b[38;5;241m.\u001b[39my)\n\u001b[1;32m     20\u001b[0m \u001b[38;5;66;03m# 2 ants can't occupy the same cell\u001b[39;00m\n\u001b[0;32m---> 21\u001b[0m \u001b[38;5;28;01mfor\u001b[39;00m ant \u001b[38;5;129;01min\u001b[39;00m ants:\n\u001b[1;32m     22\u001b[0m     \u001b[38;5;28;01mif\u001b[39;00m (ant\u001b[38;5;241m.\u001b[39mx, ant\u001b[38;5;241m.\u001b[39my) \u001b[38;5;129;01min\u001b[39;00m neighbours:\n\u001b[1;32m     23\u001b[0m         neighbours\u001b[38;5;241m.\u001b[39mremove((ant\u001b[38;5;241m.\u001b[39mx, ant\u001b[38;5;241m.\u001b[39my))\n",
      "\u001b[0;31mKeyboardInterrupt\u001b[0m: "
     ]
    }
   ],
   "source": [
    "ants = initiate_ants(grid_size, ant_density)\n",
    "grid, grids1 = run_cluster_simulation(original_grid, ants, t_total, k1, k2, alpha)"
   ]
  },
  {
   "cell_type": "code",
   "execution_count": 30,
   "id": "644e2c8d",
   "metadata": {},
   "outputs": [
    {
     "data": {
      "image/png": "[encoded data removed]",
      "text/plain": [
       "<Figure size 432x288 with 1 Axes>"
      ]
     },
     "metadata": {
      "needs_background": "light"
     },
     "output_type": "display_data"
    }
   ],
   "source": [
    "plt.imshow(grid, cmap = matplotlib.colors.ListedColormap(['k', 'r', 'y', 'b', 'w', 'g']));"
   ]
  },
  {
   "cell_type": "markdown",
   "id": "81c8fbe5",
   "metadata": {},
   "source": [
    "### Cluster distances"
   ]
  },
  {
   "cell_type": "code",
   "execution_count": 31,
   "id": "2adf07dc",
   "metadata": {},
   "outputs": [],
   "source": [
    "def cluster_distances(clusters):\n",
    "    \"\"\"calculate cluster distance matrix, contains the minimum euclidean distance between 2 clusters \"\"\"\n",
    "    D = np.zeros((len(clusters), len(clusters)))\n",
    "\n",
    "    # all pairwise cluster combinations\n",
    "    comb = combinations([i for i in range(len(clusters))], 2)\n",
    "\n",
    "    # for each cluster combination\n",
    "    for i, j in comb:\n",
    "        A = clusters[i]\n",
    "        B = clusters[j]\n",
    "        d_min = grid_size\n",
    "        # loop over every position in each of the clusters to find the closest objects\n",
    "        for k in range(len(A.objects)):\n",
    "            for l in range(len(B.objects)):\n",
    "                a = A.positions[k]\n",
    "                b = B.positions[l]\n",
    "                # euclidean distance\n",
    "                d = dist(a, b)\n",
    "                if d < d_min:\n",
    "                    d_min = d\n",
    "        # symmetric\n",
    "        D[i, j] = d_min\n",
    "        D[j, i] = D[i, j]\n",
    "        \n",
    "    return D"
   ]
  },
  {
   "cell_type": "code",
   "execution_count": 32,
   "id": "f4d27498",
   "metadata": {},
   "outputs": [],
   "source": [
    "def type_distances(clusters, D):\n",
    "    \"\"\"calculate type distance matrix, contains the average minimum euclidean distance between 2 colors/types \"\"\"\n",
    "    \n",
    "    # the clusters and their types\n",
    "    cluster_types = [(i, int(clusters[i].objects[0])) for i in range(len(clusters))]\n",
    "    \n",
    "    # all types\n",
    "    types = set([int(cluster.objects[0]) for cluster in clusters])\n",
    "\n",
    "    # type distance matrix, contains the average distance between the colors/cluster types\n",
    "    T = np.zeros((len(types), len(types)))\n",
    "\n",
    "    # all pairwise type combinations, including to the same type\n",
    "    comb = combinations_with_replacement(types, 2)\n",
    "    \n",
    "    # for each type combination\n",
    "    for i, j in comb:\n",
    "        # find the clusters of those types\n",
    "        A = [cluster[0] for cluster in cluster_types if cluster[1] == i]\n",
    "        B = [cluster[0] for cluster in cluster_types if cluster[1] == j]\n",
    "        d = 0\n",
    "        n = 0\n",
    "        # for all combinations of those different type clusters, retrieve the distance from distance matrix\n",
    "        for a in A:\n",
    "            for b in B:\n",
    "                d += D[a, b]\n",
    "                n += 1\n",
    "        # find the indices of the types in T (not always the same)\n",
    "        k = [n for n in list(enumerate(types)) if n[1] == i][0][0]\n",
    "        l = [n for n in list(enumerate(types)) if n[1] == j][0][0]\n",
    "        # divide total distance by amount of combinations => average distance\n",
    "        T[k, l] = d/n\n",
    "        T[k, l] = T[k, l]\n",
    "        \n",
    "        if T.size > 1:\n",
    "            # average distance of the red cluster to all other colored clusters (non-red)\n",
    "            av_d_r_o = np.mean(T[0, 1:])\n",
    "            # average distance of the red cluster to same colored clusters (red)\n",
    "            av_d_r_s = np.mean(T[0, 0])\n",
    "            # average distance of all clusters to all other colored clusters\n",
    "            av_d_a_o = (T.sum(axis=1) - T.diagonal()).sum()/(len(types)-1)**2\n",
    "            # average distance of all clusters to all same colored clusters\n",
    "            av_d_a_s = np.mean(np.diagonal(T))\n",
    "        else:\n",
    "            av_d_r_o = 0\n",
    "            av_d_r_s = 0\n",
    "            av_d_a_o = 0\n",
    "            av_d_a_s = 0\n",
    "        \n",
    "    return T, av_d_r_o, av_d_r_s, av_d_a_o, av_d_a_s"
   ]
  },
  {
   "cell_type": "code",
   "execution_count": 33,
   "id": "6b7dcb0b",
   "metadata": {
    "scrolled": true
   },
   "outputs": [
    {
     "ename": "NameError",
     "evalue": "name 'grids1' is not defined",
     "output_type": "error",
     "traceback": [
      "\u001b[0;31m---------------------------------------------------------------------------\u001b[0m",
      "\u001b[0;31mNameError\u001b[0m                                 Traceback (most recent call last)",
      "Input \u001b[0;32mIn [33]\u001b[0m, in \u001b[0;36m<cell line: 19>\u001b[0;34m()\u001b[0m\n\u001b[1;32m     16\u001b[0m     s_0\u001b[38;5;241m.\u001b[39mappend(av_d_r_s)\n\u001b[1;32m     18\u001b[0m \u001b[38;5;66;03m# clustered grids\u001b[39;00m\n\u001b[0;32m---> 19\u001b[0m \u001b[38;5;28;01mfor\u001b[39;00m i \u001b[38;5;129;01min\u001b[39;00m \u001b[38;5;28mrange\u001b[39m(\u001b[38;5;28mlen\u001b[39m(\u001b[43mgrids1\u001b[49m)):\n\u001b[1;32m     20\u001b[0m     g \u001b[38;5;241m=\u001b[39m grids1[i]\n\u001b[1;32m     21\u001b[0m     clusters, cluster_grid, zero_clusters, zero_cluster_grid \u001b[38;5;241m=\u001b[39m calculate_clusters(g) \n",
      "\u001b[0;31mNameError\u001b[0m: name 'grids1' is not defined"
     ]
    }
   ],
   "source": [
    "# making data for figures\n",
    "x = [i*1000 for i in range(len(grids0))]\n",
    "\n",
    "o_0 = []\n",
    "o_1 = []\n",
    "s_0 = []\n",
    "s_1 = []\n",
    "\n",
    "# non-clustered grids\n",
    "for i in range(len(grids0)):\n",
    "    g = grids0[i]\n",
    "    clusters, cluster_grid, zero_clusters, zero_cluster_grid = calculate_clusters(g) \n",
    "    D = cluster_distances(clusters)\n",
    "    T, av_d_r_o, av_d_r_s, av_d_a_o, av_d_a_s = type_distances(clusters, D)\n",
    "    o_0.append(av_d_r_o)\n",
    "    s_0.append(av_d_r_s)\n",
    "    \n",
    "# clustered grids\n",
    "for i in range(len(grids1)):\n",
    "    g = grids1[i]\n",
    "    clusters, cluster_grid, zero_clusters, zero_cluster_grid = calculate_clusters(g) \n",
    "    D = cluster_distances(clusters)\n",
    "    T, av_d_r_o, av_d_r_s, av_d_a_o, av_d_a_s = type_distances(clusters, D)\n",
    "    o_1.append(av_d_r_o)\n",
    "    s_1.append(av_d_r_s)"
   ]
  },
  {
   "cell_type": "code",
   "execution_count": null,
   "id": "6df5c453",
   "metadata": {},
   "outputs": [],
   "source": [
    "# the distance between red clusters and other clusters\n",
    "x = np.array(x)\n",
    "\n",
    "width = 100\n",
    "fig, ax = plt.subplots()\n",
    "\n",
    "rects1 = ax.bar(x - width/2, o_0, width, label = \"No clustering\", color = 'red', alpha = 0.5, edgecolor = 'gray')\n",
    "rects2 = ax.bar(x + width/2, o_1, width, label = \"Clustering\", color = 'gray', edgecolor = 'gray')\n",
    "\n",
    "ax.set_ylabel('Average minimum distance')\n",
    "ax.set_title('Average distance of red clusters from other clusters')\n",
    "ax.legend(loc = 'upper center')\n",
    "ax.grid(visible = True, linestyle = '--', linewidth=0.5)\n",
    "ax.set_ylim(top = max(max(o_0), max(o_1))*1.3)\n",
    "\n",
    "fig.tight_layout()\n",
    "plt.show()"
   ]
  },
  {
   "cell_type": "code",
   "execution_count": null,
   "id": "ad89195d",
   "metadata": {},
   "outputs": [],
   "source": [
    "# the distance between red clusters over time\n",
    "x = np.array(x)\n",
    "\n",
    "width = 100\n",
    "\n",
    "fig, ax = plt.subplots()\n",
    "rects1 = ax.bar(x - width/2, s_0, width, label = \"No clustering\", color = 'red', alpha = 0.5, edgecolor = 'gray')\n",
    "rects2 = ax.bar(x + width/2, s_0, width, label = \"Clustering\", color = 'gray', edgecolor = 'gray')\n",
    "\n",
    "# Add some text for labels, title and custom x-axis tick labels, etc.\n",
    "ax.set_ylabel('Average minimum distance')\n",
    "ax.set_title('Average distance between red clusters over time')\n",
    "ax.legend(loc = 'upper center')\n",
    "ax.grid(visible = True, linestyle = '--', linewidth=0.5)\n",
    "ax.set_ylim(top = max(max(s_0), max(s_0))*1.3)\n",
    "\n",
    "fig.tight_layout()\n",
    "\n",
    "plt.show()"
   ]
  },
  {
   "cell_type": "markdown",
   "id": "3867e652",
   "metadata": {},
   "source": [
    "## Continuous vector sorting"
   ]
  },
  {
   "cell_type": "code",
   "execution_count": 34,
   "id": "8f5deb27",
   "metadata": {},
   "outputs": [],
   "source": [
    "# downloading iris dataset\n",
    "from urllib.request import urlretrieve\n",
    "import pandas as pd\n",
    "iris = 'http://archive.ics.uci.edu/ml/machine-learning-databases/iris/iris.data'\n",
    "urlretrieve(iris)\n",
    "df = pd.read_csv(iris, sep=',')\n",
    "attributes = [\"sepal_length\", \"sepal_width\", \"petal_length\", \"petal_width\", \"class\"]\n",
    "df.columns = attributes"
   ]
  },
  {
   "cell_type": "code",
   "execution_count": 35,
   "id": "c87441eb",
   "metadata": {},
   "outputs": [
    {
     "data": {
      "text/html": [
       "<div>\n",
       "<style scoped>\n",
       "    .dataframe tbody tr th:only-of-type {\n",
       "        vertical-align: middle;\n",
       "    }\n",
       "\n",
       "    .dataframe tbody tr th {\n",
       "        vertical-align: top;\n",
       "    }\n",
       "\n",
       "    .dataframe thead th {\n",
       "        text-align: right;\n",
       "    }\n",
       "</style>\n",
       "<table border=\"1\" class=\"dataframe\">\n",
       "  <thead>\n",
       "    <tr style=\"text-align: right;\">\n",
       "      <th></th>\n",
       "      <th>sepal_length</th>\n",
       "      <th>sepal_width</th>\n",
       "      <th>petal_length</th>\n",
       "      <th>petal_width</th>\n",
       "      <th>class</th>\n",
       "    </tr>\n",
       "  </thead>\n",
       "  <tbody>\n",
       "    <tr>\n",
       "      <th>0</th>\n",
       "      <td>4.9</td>\n",
       "      <td>3.0</td>\n",
       "      <td>1.4</td>\n",
       "      <td>0.2</td>\n",
       "      <td>Iris-setosa</td>\n",
       "    </tr>\n",
       "    <tr>\n",
       "      <th>1</th>\n",
       "      <td>4.7</td>\n",
       "      <td>3.2</td>\n",
       "      <td>1.3</td>\n",
       "      <td>0.2</td>\n",
       "      <td>Iris-setosa</td>\n",
       "    </tr>\n",
       "    <tr>\n",
       "      <th>2</th>\n",
       "      <td>4.6</td>\n",
       "      <td>3.1</td>\n",
       "      <td>1.5</td>\n",
       "      <td>0.2</td>\n",
       "      <td>Iris-setosa</td>\n",
       "    </tr>\n",
       "    <tr>\n",
       "      <th>3</th>\n",
       "      <td>5.0</td>\n",
       "      <td>3.6</td>\n",
       "      <td>1.4</td>\n",
       "      <td>0.2</td>\n",
       "      <td>Iris-setosa</td>\n",
       "    </tr>\n",
       "    <tr>\n",
       "      <th>4</th>\n",
       "      <td>5.4</td>\n",
       "      <td>3.9</td>\n",
       "      <td>1.7</td>\n",
       "      <td>0.4</td>\n",
       "      <td>Iris-setosa</td>\n",
       "    </tr>\n",
       "  </tbody>\n",
       "</table>\n",
       "</div>"
      ],
      "text/plain": [
       "   sepal_length  sepal_width  petal_length  petal_width        class\n",
       "0           4.9          3.0           1.4          0.2  Iris-setosa\n",
       "1           4.7          3.2           1.3          0.2  Iris-setosa\n",
       "2           4.6          3.1           1.5          0.2  Iris-setosa\n",
       "3           5.0          3.6           1.4          0.2  Iris-setosa\n",
       "4           5.4          3.9           1.7          0.4  Iris-setosa"
      ]
     },
     "execution_count": 35,
     "metadata": {},
     "output_type": "execute_result"
    }
   ],
   "source": [
    "df.head()"
   ]
  },
  {
   "cell_type": "code",
   "execution_count": 36,
   "id": "f4716627",
   "metadata": {},
   "outputs": [],
   "source": [
    "# convert class to a number\n",
    "df['class_n'] = [i[0] for j in df['class'] for i in enumerate(set(df['class'])) if j == i[1]]"
   ]
  },
  {
   "cell_type": "code",
   "execution_count": 37,
   "id": "2710342f",
   "metadata": {},
   "outputs": [
    {
     "data": {
      "text/html": [
       "<div>\n",
       "<style scoped>\n",
       "    .dataframe tbody tr th:only-of-type {\n",
       "        vertical-align: middle;\n",
       "    }\n",
       "\n",
       "    .dataframe tbody tr th {\n",
       "        vertical-align: top;\n",
       "    }\n",
       "\n",
       "    .dataframe thead th {\n",
       "        text-align: right;\n",
       "    }\n",
       "</style>\n",
       "<table border=\"1\" class=\"dataframe\">\n",
       "  <thead>\n",
       "    <tr style=\"text-align: right;\">\n",
       "      <th></th>\n",
       "      <th>sepal_length</th>\n",
       "      <th>sepal_width</th>\n",
       "      <th>petal_length</th>\n",
       "      <th>petal_width</th>\n",
       "      <th>class</th>\n",
       "      <th>class_n</th>\n",
       "    </tr>\n",
       "  </thead>\n",
       "  <tbody>\n",
       "    <tr>\n",
       "      <th>0</th>\n",
       "      <td>4.9</td>\n",
       "      <td>3.0</td>\n",
       "      <td>1.4</td>\n",
       "      <td>0.2</td>\n",
       "      <td>Iris-setosa</td>\n",
       "      <td>2</td>\n",
       "    </tr>\n",
       "    <tr>\n",
       "      <th>1</th>\n",
       "      <td>4.7</td>\n",
       "      <td>3.2</td>\n",
       "      <td>1.3</td>\n",
       "      <td>0.2</td>\n",
       "      <td>Iris-setosa</td>\n",
       "      <td>2</td>\n",
       "    </tr>\n",
       "    <tr>\n",
       "      <th>2</th>\n",
       "      <td>4.6</td>\n",
       "      <td>3.1</td>\n",
       "      <td>1.5</td>\n",
       "      <td>0.2</td>\n",
       "      <td>Iris-setosa</td>\n",
       "      <td>2</td>\n",
       "    </tr>\n",
       "    <tr>\n",
       "      <th>3</th>\n",
       "      <td>5.0</td>\n",
       "      <td>3.6</td>\n",
       "      <td>1.4</td>\n",
       "      <td>0.2</td>\n",
       "      <td>Iris-setosa</td>\n",
       "      <td>2</td>\n",
       "    </tr>\n",
       "    <tr>\n",
       "      <th>4</th>\n",
       "      <td>5.4</td>\n",
       "      <td>3.9</td>\n",
       "      <td>1.7</td>\n",
       "      <td>0.4</td>\n",
       "      <td>Iris-setosa</td>\n",
       "      <td>2</td>\n",
       "    </tr>\n",
       "  </tbody>\n",
       "</table>\n",
       "</div>"
      ],
      "text/plain": [
       "   sepal_length  sepal_width  petal_length  petal_width        class  class_n\n",
       "0           4.9          3.0           1.4          0.2  Iris-setosa        2\n",
       "1           4.7          3.2           1.3          0.2  Iris-setosa        2\n",
       "2           4.6          3.1           1.5          0.2  Iris-setosa        2\n",
       "3           5.0          3.6           1.4          0.2  Iris-setosa        2\n",
       "4           5.4          3.9           1.7          0.4  Iris-setosa        2"
      ]
     },
     "execution_count": 37,
     "metadata": {},
     "output_type": "execute_result"
    }
   ],
   "source": [
    "df.head()"
   ]
  },
  {
   "cell_type": "code",
   "execution_count": 38,
   "id": "b673aa43",
   "metadata": {},
   "outputs": [],
   "source": [
    "vectors = df[['sepal_length', 'sepal_width', 'petal_length', 'petal_width']].to_numpy()\n",
    "\n",
    "# normalizing the vectors\n",
    "for i in range(vectors.shape[1]):\n",
    "    col = vectors[:, i]\n",
    "    col = (col-min(col))/max(col)\n",
    "    vectors[:, i] = col\n",
    "\n",
    "classes = df['class_n'].to_numpy()"
   ]
  },
  {
   "cell_type": "code",
   "execution_count": 39,
   "id": "29450eb4",
   "metadata": {},
   "outputs": [],
   "source": [
    "# dissimilarity matrix between each sample vector\n",
    "DIS = np.zeros((len(df), len(df)))\n",
    "\n",
    "comb = combinations(df.index, 2)\n",
    "\n",
    "for i, j in comb:\n",
    "    # euclidean distance as dissimilarity measure\n",
    "    DIS[i, j] = dist(vectors[i],  vectors[j])\n",
    "    DIS[j, i] = DIS[i, j]\n",
    "    \n",
    "# normalize matrix between 0 and 1\n",
    "DIS = DIS/DIS.max()"
   ]
  },
  {
   "cell_type": "code",
   "execution_count": 40,
   "id": "ad336fe8",
   "metadata": {},
   "outputs": [
    {
     "data": {
      "image/png": "[encoded data removed]",
      "text/plain": [
       "<Figure size 432x288 with 1 Axes>"
      ]
     },
     "metadata": {
      "needs_background": "light"
     },
     "output_type": "display_data"
    }
   ],
   "source": [
    "# distribution of the dissimilarities\n",
    "plt.hist(DIS.flatten());"
   ]
  },
  {
   "cell_type": "code",
   "execution_count": 41,
   "id": "b1997db2",
   "metadata": {},
   "outputs": [
    {
     "data": {
      "text/plain": [
       "0.3872305692551588"
      ]
     },
     "execution_count": 41,
     "metadata": {},
     "output_type": "execute_result"
    }
   ],
   "source": [
    "# the average dissimilarity, used in clustering\n",
    "avg_dis = np.mean(DIS.flatten())\n",
    "avg_dis"
   ]
  },
  {
   "cell_type": "code",
   "execution_count": 42,
   "id": "54c2ecb8",
   "metadata": {},
   "outputs": [],
   "source": [
    "def vector_dissimilarity(index_o, index_n, DIS):\n",
    "    \"\"\"calculate dissimilarity between vector objects\"\"\"\n",
    "    dis = DIS[index_o - 1, index_n - 1]\n",
    "    return dis"
   ]
  },
  {
   "cell_type": "code",
   "execution_count": 43,
   "id": "9f3bcfa3",
   "metadata": {},
   "outputs": [],
   "source": [
    "def vector_local_density(x, y, object, grid, alpha, DIS):\n",
    "    \"\"\"calculate local density\n",
    "        x, y = coordinates of the cell\n",
    "        object = object the ant is holding\"\"\"\n",
    "    \n",
    "    neighbourhood = von_neumann_neighbourhood(x, y)\n",
    "    s2 = len(neighbourhood) + 1\n",
    "    similarity = 0\n",
    "    \n",
    "    for x_n, y_n in neighbourhood:\n",
    "        similarity += 1 - vector_dissimilarity(object, grid[x_n, y_n], DIS)/alpha\n",
    "        \n",
    "    return max(0, similarity/s2)"
   ]
  },
  {
   "cell_type": "markdown",
   "id": "2b8fc3aa",
   "metadata": {},
   "source": [
    "### Simulation"
   ]
  },
  {
   "cell_type": "code",
   "execution_count": 122,
   "id": "d5ecf6bb",
   "metadata": {},
   "outputs": [],
   "source": [
    "grid_size = 7\n",
    "ant_density = 0.1\n",
    "object_density = 0.25\n",
    "n_object_types = len(df)\n",
    "t_total = 10000\n",
    "k1 = 0.05\n",
    "k2 = 0.15\n",
    "alpha = 0.3"
   ]
  },
  {
   "cell_type": "code",
   "execution_count": 123,
   "id": "4d45e1c5",
   "metadata": {},
   "outputs": [
    {
     "name": "stdout",
     "output_type": "stream",
     "text": [
      "There are 12 objects on the grid.\n"
     ]
    }
   ],
   "source": [
    "original_grid = initiate_grid(grid_size, object_density, n_object_types)"
   ]
  },
  {
   "cell_type": "code",
   "execution_count": 124,
   "id": "499fec0d",
   "metadata": {},
   "outputs": [
    {
     "data": {
      "image/png": "[encoded data removed]",
      "text/plain": [
       "<Figure size 432x288 with 1 Axes>"
      ]
     },
     "metadata": {
      "needs_background": "light"
     },
     "output_type": "display_data"
    }
   ],
   "source": [
    "# color the objects according to their flower class\n",
    "original_class_grid = np.zeros((grid_size, grid_size), dtype=int)\n",
    "for x in range(grid_size):\n",
    "    for y in range(grid_size):\n",
    "        if original_grid[x, y] != 0:\n",
    "            original_class_grid[x, y] = classes[original_grid[x, y] - 1] + 1\n",
    "            \n",
    "plt.imshow(original_class_grid, cmap = matplotlib.colors.ListedColormap(['k', 'r', 'y', 'b']));"
   ]
  },
  {
   "cell_type": "markdown",
   "id": "07514317",
   "metadata": {},
   "source": [
    "Alpha was chosen according to the local density distribution. Several alphas were tried, the alpha that produced a distribution most similar to the one in the previous experiments was chosen."
   ]
  },
  {
   "cell_type": "code",
   "execution_count": 125,
   "id": "926f25b1",
   "metadata": {},
   "outputs": [],
   "source": [
    "alpha_densities = []\n",
    "for alpha in np.arange(0.1, 2, 0.1):\n",
    "    densities = []\n",
    "    for vec in range(1, len(vectors) + 1):       \n",
    "        for x in range(grid_size):\n",
    "            for y in range(grid_size):\n",
    "                densities.append(vector_local_density(x, y, vec, original_grid, alpha, DIS))\n",
    "    alpha_densities.append(densities)"
   ]
  },
  {
   "cell_type": "code",
   "execution_count": 126,
   "id": "b609e5a4",
   "metadata": {},
   "outputs": [
    {
     "name": "stdout",
     "output_type": "stream",
     "text": [
      "local density distribution for all vectors in the original grid for alpha = 0.3\n"
     ]
    },
    {
     "data": {
      "image/png": "[encoded data removed]",
      "text/plain": [
       "<Figure size 432x288 with 1 Axes>"
      ]
     },
     "metadata": {
      "needs_background": "light"
     },
     "output_type": "display_data"
    }
   ],
   "source": [
    "i = 2\n",
    "plt.hist(alpha_densities[i]); \n",
    "print(f\"local density distribution for all vectors in the original grid for alpha = {round(np.arange(0.1, 2, 0.1)[i], 1)}\")"
   ]
  },
  {
   "cell_type": "code",
   "execution_count": 127,
   "id": "5d065427",
   "metadata": {},
   "outputs": [],
   "source": [
    "def run_vector_simulation(original_grid, ants, t_total, k1, k2, alpha, DIS):\n",
    "    \"\"\"the simulation for the vector clustering, based on vector_local_density\"\"\"\n",
    "\n",
    "    grids = []\n",
    "    grid = np.copy(original_grid)\n",
    "    grids.append(np.copy(grid))\n",
    "\n",
    "    for t in range(1, t_total):\n",
    "        for ant in ants:\n",
    "\n",
    "            if (ant.laden == False) & (grid[ant.x, ant.y] != 0):\n",
    "                p_pickup = pickup_probability(vector_local_density(ant.x, ant.y, grid[ant.x, ant.y], grid, alpha, DIS), k1)\n",
    "\n",
    "                if random.random() <= p_pickup:\n",
    "                    ant.pickup(grid[ant.x, ant.y])\n",
    "                    grid[ant.x, ant.y] = 0\n",
    "\n",
    "            elif (ant.laden == True) & (grid[ant.x, ant.y] == 0):\n",
    "                p_drop = drop_probability(vector_local_density(ant.x, ant.y, ant.object, grid, alpha, DIS), k2)\n",
    "\n",
    "                if random.random() <= p_drop:\n",
    "                    grid[ant.x, ant.y] = ant.object\n",
    "                    ant.drop()\n",
    "\n",
    "            ant.move(ants)\n",
    "\n",
    "        if t % 1000 == 0:\n",
    "            grids.append(np.copy(grid))\n",
    "\n",
    "    # forcing ants to drop their object in place after simulation\n",
    "    for ant in ants:\n",
    "        while ant.laden:\n",
    "            if grid[ant.x, ant.y] == 0:\n",
    "                grid[ant.x, ant.y] = ant.object\n",
    "                ant.drop()\n",
    "            else:\n",
    "                ant.move(ants)\n",
    "                \n",
    "    grids.append(np.copy(grid))\n",
    "\n",
    "    return grid, grids"
   ]
  },
  {
   "cell_type": "code",
   "execution_count": 128,
   "id": "2a7a5614",
   "metadata": {},
   "outputs": [
    {
     "name": "stdout",
     "output_type": "stream",
     "text": [
      "There are 4 ants on the grid.\n"
     ]
    }
   ],
   "source": [
    "ants = initiate_ants(grid_size, ant_density)\n",
    "grid, grids2 = run_vector_simulation(original_grid, ants, t_total, k1, k2, alpha, DIS)"
   ]
  },
  {
   "cell_type": "code",
   "execution_count": 129,
   "id": "4a7734e4",
   "metadata": {},
   "outputs": [
    {
     "data": {
      "image/png": "[encoded data removed]",
      "text/plain": [
       "<Figure size 432x288 with 1 Axes>"
      ]
     },
     "metadata": {
      "needs_background": "light"
     },
     "output_type": "display_data"
    }
   ],
   "source": [
    "# color the objects according to their flower class\n",
    "class_grid = np.zeros((grid_size, grid_size), dtype=int)\n",
    "for x in range(grid_size):\n",
    "    for y in range(grid_size):\n",
    "        if grid[x, y] != 0:\n",
    "            class_grid[x, y] = classes[grid[x, y] - 1] + 1\n",
    "            \n",
    "plt.imshow(class_grid, cmap = matplotlib.colors.ListedColormap(['k', 'r', 'y', 'b']));"
   ]
  },
  {
   "cell_type": "markdown",
   "id": "2b412d4b",
   "metadata": {},
   "source": [
    "### Vector clusters"
   ]
  },
  {
   "cell_type": "code",
   "execution_count": 130,
   "id": "7b9d7335",
   "metadata": {},
   "outputs": [],
   "source": [
    "def calculate_vector_clusters(grid, DIS):\n",
    "    \"\"\"Converts vector objects into clusters, adjacent objects of similar type are put into the same cluster.\"\"\"\n",
    "    # clusters for objects\n",
    "    clusters = []\n",
    "    cluster_grid = np.zeros((grid_size, grid_size), dtype=int)\n",
    "    # clusters for zeros\n",
    "    zero_clusters = []\n",
    "    zero_cluster_grid = np.zeros((grid_size, grid_size), dtype=int)\n",
    "    \n",
    "    \n",
    "    #iterate over all grid cells\n",
    "    for x in range(grid_size):\n",
    "        for y in range(grid_size):\n",
    "            \n",
    "            # if it's an object\n",
    "            if grid[x, y] != 0:\n",
    "\n",
    "                # if the object is not in a cluster\n",
    "                if cluster_grid[x, y] == 0:\n",
    "\n",
    "                    # make a cluster\n",
    "                    clusters.append(Cluster())\n",
    "                    clusters[len(clusters) - 1].add_object(x, y, grid[x, y])\n",
    "                    cluster_grid[x, y] = len(clusters)\n",
    "\n",
    "                    # add neighboring positions to the cluster using greedy search             \n",
    "                    done = False\n",
    "                    already_seen = []\n",
    "                    while not done:\n",
    "                        added = 0\n",
    "                        for x_i, y_i in clusters[len(clusters) - 1].positions:\n",
    "                            if (x_i, y_i) not in already_seen:\n",
    "                                already_seen.append((x_i, y_i))\n",
    "                                neighbors = von_neumann_neighbourhood(x_i, y_i)\n",
    "                                # the dissimilarity between the vectors currently in the cluster and the adjacent vector is used\n",
    "                                # to determine if the object belongs to that cluster, if the average dissimilarity is lower then \n",
    "                                # the total average dissimilarity in the dataset, the vector gets added to the cluster\n",
    "                                same_type = []\n",
    "                                for x_n, y_n in neighbors:\n",
    "                                    if grid[x_n, y_n] != 0:\n",
    "                                        dis = []\n",
    "                                        for vector in clusters[len(clusters) - 1].objects:\n",
    "                                            dis.append(vector_dissimilarity(vector, grid[x_n, y_n], DIS))                            \n",
    "                                        if np.mean(dis) < avg_dis:\n",
    "                                            same_type.append((x_n, y_n))\n",
    "                                for s in same_type:\n",
    "                                    clusters[len(clusters) - 1].add_object(s[0], s[1], grid[s[0], s[1]])\n",
    "                                    cluster_grid[s[0], s[1]] = len(clusters)\n",
    "                                    added += 1\n",
    "                        if added == 0:\n",
    "                            done = True\n",
    "\n",
    "            # if it's not an object, make clusters of zeros (the free space), useful for dropping clusters later on\n",
    "            else:\n",
    "                # if it's is not in a cluster\n",
    "                if zero_cluster_grid[x, y] == 0:\n",
    "\n",
    "                    # make a cluster\n",
    "                    zero_clusters.append(Cluster())\n",
    "                    zero_clusters[len(zero_clusters) - 1].add_object(x, y, grid[x, y])\n",
    "                    zero_cluster_grid[x, y] = len(zero_clusters)\n",
    "\n",
    "                    # add neighboring positions to the cluster using greedy search\n",
    "                    done = False\n",
    "                    already_seen = []\n",
    "                    while not done:\n",
    "                        added = 0\n",
    "                        for x_i, y_i in zero_clusters[len(zero_clusters) - 1].positions:\n",
    "                            if (x_i, y_i) not in already_seen:\n",
    "                                already_seen.append((x_i, y_i))\n",
    "                                neighbors = von_neumann_neighbourhood(x_i, y_i)\n",
    "                                same_type = [n for n in neighbors if grid[n[0], n[1]] == 0]\n",
    "                                for s in same_type:\n",
    "                                    zero_clusters[len(zero_clusters) - 1].add_object(s[0], s[1], grid[s[0], s[1]])\n",
    "                                    zero_cluster_grid[s[0], s[1]] = len(zero_clusters)\n",
    "                                    added += 1\n",
    "                        if added == 0:\n",
    "                            done = True\n",
    "\n",
    "        \n",
    "                          \n",
    "    return clusters, cluster_grid, zero_clusters, zero_cluster_grid"
   ]
  },
  {
   "cell_type": "code",
   "execution_count": 131,
   "id": "d52684fe",
   "metadata": {},
   "outputs": [],
   "source": [
    "clusters, cluster_grid, zero_clusters, zero_cluster_grid = calculate_vector_clusters(grid, DIS)"
   ]
  },
  {
   "cell_type": "code",
   "execution_count": 132,
   "id": "aaa6180f",
   "metadata": {},
   "outputs": [
    {
     "data": {
      "image/png": "[encoded data removed]",
      "text/plain": [
       "<Figure size 432x288 with 1 Axes>"
      ]
     },
     "metadata": {
      "needs_background": "light"
     },
     "output_type": "display_data"
    }
   ],
   "source": [
    "# color the objects according to their flower class\n",
    "class_grid = np.zeros((grid_size, grid_size), dtype=int)\n",
    "for x in range(grid_size):\n",
    "    for y in range(grid_size):\n",
    "        if grid[x, y] != 0:\n",
    "            class_grid[x, y] = classes[grid[x, y] - 1] + 1\n",
    "            \n",
    "plt.imshow(class_grid, cmap = matplotlib.colors.ListedColormap(['k', 'r', 'y', 'b']));"
   ]
  },
  {
   "cell_type": "code",
   "execution_count": 133,
   "id": "32e184ba",
   "metadata": {},
   "outputs": [
    {
     "data": {
      "text/plain": [
       "9"
      ]
     },
     "execution_count": 133,
     "metadata": {},
     "output_type": "execute_result"
    }
   ],
   "source": [
    "len(clusters)"
   ]
  },
  {
   "cell_type": "code",
   "execution_count": 134,
   "id": "aea22c41",
   "metadata": {},
   "outputs": [
    {
     "data": {
      "image/png": "[encoded data removed]",
      "text/plain": [
       "<Figure size 432x288 with 1 Axes>"
      ]
     },
     "metadata": {
      "needs_background": "light"
     },
     "output_type": "display_data"
    }
   ],
   "source": [
    "plt.imshow(cluster_grid);"
   ]
  },
  {
   "cell_type": "code",
   "execution_count": 135,
   "id": "d1338e06",
   "metadata": {},
   "outputs": [
    {
     "data": {
      "text/plain": [
       "1"
      ]
     },
     "execution_count": 135,
     "metadata": {},
     "output_type": "execute_result"
    }
   ],
   "source": [
    "len(zero_clusters)"
   ]
  },
  {
   "cell_type": "code",
   "execution_count": 136,
   "id": "835664f1",
   "metadata": {},
   "outputs": [
    {
     "data": {
      "image/png": "[encoded data removed]",
      "text/plain": [
       "<Figure size 432x288 with 1 Axes>"
      ]
     },
     "metadata": {
      "needs_background": "light"
     },
     "output_type": "display_data"
    }
   ],
   "source": [
    "plt.imshow(zero_cluster_grid);"
   ]
  },
  {
   "cell_type": "code",
   "execution_count": 137,
   "id": "23f8b6c7",
   "metadata": {},
   "outputs": [],
   "source": [
    "def vector_Von_Neumann_drop(ant, grid, alpha, DIS): \n",
    "    \"\"\"Von Neumann drop method to drop clusters of vectors\"\"\"\n",
    "    success = True\n",
    "    \n",
    "    #get location of ant\n",
    "    x, y = ant.x, ant.y\n",
    "    \n",
    "    previous_positions = [(x, y)]\n",
    "    \n",
    "    #virtual drop of first object in cluster\n",
    "    temp_grid = np.copy(grid)\n",
    "    temp_grid[x, y] = ant.object.objects[0]\n",
    "    \n",
    "    #iterative virtual drops of next objects in cluster\n",
    "    for i in range(1, len(ant.object.objects)):\n",
    "        \n",
    "        #get location of all neighbours\n",
    "        neighbours = von_neumann_neighbourhood(x, y)\n",
    "        max_s = 0\n",
    "        max_x = float(\"nan\")\n",
    "        max_y = float(\"nan\")\n",
    "\n",
    "        #iterate over neighbours\n",
    "        for x_n, y_n in neighbours:\n",
    "            #if cell is empty \n",
    "            if temp_grid[x_n, y_n] == 0:\n",
    "                #calculate local density of next object in cluster\n",
    "                s = vector_local_density(x_n, y_n, ant.object.objects[i], temp_grid, alpha, DIS)\n",
    "                #check if this neighbour is the current best neighbour\n",
    "                if s > max_s:\n",
    "                    max_s = s\n",
    "                    max_x = x_n\n",
    "                    max_y = y_n\n",
    "        \n",
    "        if np.isnan(max_x) != True:\n",
    "            #virtual drop of object on best neighbour\n",
    "            temp_grid[max_x, max_y] = ant.object.objects[i]\n",
    "        \n",
    "            #\"move\" to the best neighbour\n",
    "            x = max_x\n",
    "            y = max_y\n",
    "            previous_positions = [(max_x, max_y)]\n",
    "            i = 0\n",
    "            \n",
    "        else:\n",
    "            success = False\n",
    "            break\n",
    "            \n",
    "    return success, temp_grid"
   ]
  },
  {
   "cell_type": "code",
   "execution_count": 138,
   "id": "f6db0bef",
   "metadata": {},
   "outputs": [],
   "source": [
    "def average_local_dissimilarity(ant, grid, DIS):\n",
    "    \"\"\"calculate the average dissimilarity of the neighbours to the cluster\"\"\"\n",
    "    x, y, cluster = ant.x, ant.y, ant.cluster\n",
    "    neighbours = von_neumann_neighbourhood(x, y)\n",
    "    avg_l_dis = []\n",
    "    for x_n, y_n in neighbors:\n",
    "        dis= []\n",
    "        if grid[x_n, y_n] != 0:\n",
    "            for vector in cluster.objects:\n",
    "                dis.append(vector_dissimilarity(vector, grid[x_n, y_n], DIS))\n",
    "        avg_l_dis.append(np.mean(dis))\n",
    "    avg_l_dis = np.mean(avg_dis)\n",
    "    return avg_l_dis"
   ]
  },
  {
   "cell_type": "code",
   "execution_count": 139,
   "id": "67f5bf21",
   "metadata": {},
   "outputs": [],
   "source": [
    "def run_vector_cluster_simulation(original_grid, ants, t_total, k1, k2, alpha, DIS):\n",
    "\n",
    "    grids = []\n",
    "    grid = np.copy(original_grid)\n",
    "    grids.append(np.copy(grid))\n",
    "    clusters, cluster_grid, zero_clusters, zero_cluster_grid = calculate_vector_clusters(grid, DIS)\n",
    "    ant_timer = 0\n",
    "    maxtime = grid_size**2\n",
    "\n",
    "    for t in range(1, t_total):\n",
    "\n",
    "        # keep track of how many timesteps no clusters are dropped for surrounded cluster deadlock\n",
    "        ant_timer += 1\n",
    "\n",
    "        for ant in ants:\n",
    "\n",
    "            # pickup\n",
    "            if (ant.laden == False) and (grid[ant.x, ant.y] != 0):     \n",
    "\n",
    "                # make sure ant doesn't pick up the last cluster of that type to avoid empty grid deadlock\n",
    "                if sum([grid[ant.x, ant.y] == cluster.objects[0] for cluster in clusters]) > 1: \n",
    "\n",
    "                    p_pickup = pickup_probability(vector_local_density(ant.x, ant.y, grid[ant.x, ant.y], grid, alpha, DIS), k1)            \n",
    "                    if random.random() <= p_pickup:\n",
    "                        cluster = clusters[int(cluster_grid[ant.x, ant.y]) - 1]\n",
    "                        ant.pickup(cluster)          \n",
    "\n",
    "                        # remove cluster & objects from the grid\n",
    "                        for i in range(len(cluster.positions)):\n",
    "                            grid[cluster.x[i], cluster.y[i]] = 0     \n",
    "\n",
    "            # drop\n",
    "            elif (ant.laden == True) and (grid[ant.x, ant.y] == 0):          \n",
    "                p_drop = drop_probability(vector_local_density(ant.x, ant.y, ant.object.objects[0], grid, alpha, DIS), k2)     \n",
    "                if random.random() <= p_drop: \n",
    "\n",
    "                    # find the zero cluster that the ant is currently in\n",
    "                    for zero_cluster in zero_clusters:\n",
    "                         if (ant.x, ant.y) in zero_cluster.positions:\n",
    "                            break\n",
    "\n",
    "                    # only drop if the free space (zero cluster) is large enough to hold the cluster that the ant is carrying\n",
    "                    if len(ant.object.objects) <= len(zero_cluster.objects):\n",
    "                        # Neumann drop the cluster             \n",
    "                        success, temp_grid = vector_Von_Neumann_drop(ant, grid, alpha, DIS)\n",
    "                        if success:\n",
    "                            grid = np.copy(temp_grid)\n",
    "                            ant.drop()\n",
    "                            ant_timer = 0\n",
    "\n",
    "            # if no clusters have been dropped for too long, force ants to walk around until they drop their clusters\n",
    "            # to avoid surrounded cluster deadlock\n",
    "            if ant_timer == maxtime:\n",
    "                ant_timer = 0\n",
    "                for ant in ants:\n",
    "                    if ant.laden:        \n",
    "                        success = False\n",
    "                        while not success:\n",
    "                            ant.move(ants)\n",
    "                            # make sure the grid is empty and the ant is adjacent to a similar\n",
    "                            if grid[ant.x, ant.y] == 0 and average_local_dissimilarity(ant, grid, DIS) < avg_dis:                \n",
    "                                # find the zero cluster that the ant is currently in\n",
    "                                for zero_cluster in zero_clusters:\n",
    "                                    if (ant.x, ant.y) in zero_cluster.positions:\n",
    "                                        break    \n",
    "                                # only drop if the free space (zero cluster) is large enough to hold the cluster that the ant is carrying\n",
    "                                if len(ant.object.objects) <= len(zero_cluster.objects):\n",
    "                                    # Neumann drop the cluster             \n",
    "                                    success, temp_grid = vector_Von_Neumann_drop(ant, grid, alpha, DIS)\n",
    "                        grid = np.copy(temp_grid)\n",
    "                        ant.drop()\n",
    "                        clusters, cluster_grid, zero_clusters, zero_cluster_grid = calculate_vector_clusters(grid, DIS)\n",
    "\n",
    "            ant.move(ants)\n",
    "            # merge adjacent clusters of same type by recalculating\n",
    "            clusters, cluster_grid, zero_clusters, zero_cluster_grid = calculate_clusters(grid)\n",
    "\n",
    "        if t % 1000 == 0:\n",
    "            grids.append(np.copy(grid))\n",
    "\n",
    "    # force the ants to drop at the end of the simulation\n",
    "    for ant in ants:\n",
    "        if ant.laden:        \n",
    "            success = False\n",
    "            while not success:\n",
    "                ant.move(ants)\n",
    "                # make sure the grid is empty and the ant is adjacent to a similar cluster\n",
    "                if grid[ant.x, ant.y] == 0 and  average_local_dissimilarity(ant, grid, DIS) < avg_dis:          \n",
    "                    # find the zero cluster that the ant is currently in\n",
    "                    for zero_cluster in zero_clusters:\n",
    "                        if (ant.x, ant.y) in zero_cluster.positions:\n",
    "                            break    \n",
    "                    # only drop if the free space (zero cluster) is large enough to hold the cluster that the ant is carrying\n",
    "                    if len(ant.object.objects) <= len(zero_cluster.objects):\n",
    "                        # Neumann drop the cluster             \n",
    "                        success, temp_grid = vector_Von_Neumann_drop(ant, grid, alpha, DIS)\n",
    "            grid = np.copy(temp_grid)\n",
    "            ant.drop()\n",
    "            clusters, cluster_grid, zero_clusters, zero_cluster_grid = calculate_vector_clusters(grid, DIS)\n",
    "    \n",
    "    grids.append(np.copy(grid))\n",
    "        \n",
    "    return grid, grids"
   ]
  },
  {
   "cell_type": "code",
   "execution_count": 140,
   "id": "254e9fd2",
   "metadata": {},
   "outputs": [
    {
     "name": "stdout",
     "output_type": "stream",
     "text": [
      "There are 4 ants on the grid.\n"
     ]
    }
   ],
   "source": [
    "ants = initiate_ants(grid_size, ant_density)\n",
    "grid, grids3 = run_vector_cluster_simulation(original_grid, ants, t_total, k1, k2, alpha, DIS)"
   ]
  },
  {
   "cell_type": "code",
   "execution_count": 141,
   "id": "4031a139",
   "metadata": {},
   "outputs": [
    {
     "data": {
      "image/png": "[encoded data removed]",
      "text/plain": [
       "<Figure size 432x288 with 1 Axes>"
      ]
     },
     "metadata": {
      "needs_background": "light"
     },
     "output_type": "display_data"
    }
   ],
   "source": [
    "class_grid = np.zeros((grid_size, grid_size), dtype=int)\n",
    "for x in range(grid_size):\n",
    "    for y in range(grid_size):\n",
    "        if grid[x, y] != 0:\n",
    "            class_grid[x, y] = classes[grid[x, y] - 1] + 1\n",
    "            \n",
    "plt.imshow(class_grid, cmap = matplotlib.colors.ListedColormap(['k', 'r', 'y', 'b']));"
   ]
  },
  {
   "cell_type": "code",
   "execution_count": 153,
   "id": "e4cb8711",
   "metadata": {},
   "outputs": [],
   "source": [
    "# making data for figures\n",
    "x = [i*1000 for i in range(len(grids2))]\n",
    "\n",
    "o_2 = []\n",
    "o_3 = []\n",
    "s_2 = []\n",
    "s_3 = []\n",
    "\n",
    "# non-clustered grids\n",
    "for i in range(len(grids2)):\n",
    "    g = grids2[i]    \n",
    "    # we have to calculate the real clusters according to flower class, not according to the vector clusters\n",
    "    class_g = np.zeros((grid_size, grid_size), dtype=int)\n",
    "    for x in range(grid_size):\n",
    "        for y in range(grid_size):\n",
    "            if g[x, y] != 0:\n",
    "                class_g[x, y] = classes[g[x, y] - 1] + 1\n",
    "    clusters, cluster_grid, zero_clusters, zero_cluster_grid = calculate_clusters(g)    \n",
    "    D = cluster_distances(clusters)\n",
    "    T, av_d_r_o, av_d_r_s, av_d_a_o, av_d_a_s = type_distances(clusters, D)\n",
    "    o_2.append(av_d_r_o)\n",
    "    s_2.append(av_d_r_s)\n",
    "    \n",
    "# clustered grids\n",
    "for i in range(len(grids3)):\n",
    "    g = grids3[i]    \n",
    "    # we have to calculate the real clusters according to flower class, not according to the vector clusters\n",
    "    class_g = np.zeros((grid_size, grid_size), dtype=int)\n",
    "    for x in range(grid_size):\n",
    "        for y in range(grid_size):\n",
    "            if g[x, y] != 0:\n",
    "                class_g[x, y] = classes[g[x, y] - 1] + 1\n",
    "    clusters, cluster_grid, zero_clusters, zero_cluster_grid = calculate_clusters(g)     \n",
    "    D = cluster_distances(clusters)\n",
    "    T, av_d_r_o, av_d_r_s, av_d_a_o, av_d_a_s = type_distances(clusters, D)\n",
    "    o_3.append(av_d_r_o)\n",
    "    s_3.append(av_d_r_s)"
   ]
  },
  {
   "cell_type": "code",
   "execution_count": 154,
   "id": "83c53a51",
   "metadata": {},
   "outputs": [
    {
     "data": {
      "image/png": "[encoded data removed]",
      "text/plain": [
       "<Figure size 432x288 with 1 Axes>"
      ]
     },
     "metadata": {
      "needs_background": "light"
     },
     "output_type": "display_data"
    }
   ],
   "source": [
    "# the distance between red clusters and other clusters\n",
    "x = np.array(x)\n",
    "\n",
    "width = 100\n",
    "fig, ax = plt.subplots()\n",
    "\n",
    "rects1 = ax.bar(x - width/2, o_2, width, label = \"No clustering\", color = 'red', alpha = 0.5, edgecolor = 'gray')\n",
    "rects2 = ax.bar(x + width/2, o_3, width, label = \"Clustering\", color = 'gray', edgecolor = 'gray')\n",
    "\n",
    "ax.set_ylabel('Average minimum distance')\n",
    "ax.set_title('Average distance of red clusters from other clusters')\n",
    "ax.legend(loc = 'upper center')\n",
    "ax.grid(visible = True, linestyle = '--', linewidth=0.5)\n",
    "ax.set_ylim(top = max(max(o_0), max(o_1))*1.3)\n",
    "\n",
    "fig.tight_layout()\n",
    "plt.show()"
   ]
  },
  {
   "cell_type": "code",
   "execution_count": 156,
   "id": "8bbb2cd7",
   "metadata": {},
   "outputs": [
    {
     "data": {
      "image/png": "[encoded data removed]",
      "text/plain": [
       "<Figure size 432x288 with 1 Axes>"
      ]
     },
     "metadata": {
      "needs_background": "light"
     },
     "output_type": "display_data"
    }
   ],
   "source": [
    "# the distance between red clusters over time\n",
    "x = np.array(x)\n",
    "\n",
    "width = 100\n",
    "\n",
    "fig, ax = plt.subplots()\n",
    "rects1 = ax.bar(x - width/2, s_2, width, label = \"No clustering\", color = 'red', alpha = 0.5, edgecolor = 'gray')\n",
    "rects2 = ax.bar(x + width/2, s_3, width, label = \"Clustering\", color = 'gray', edgecolor = 'gray')\n",
    "\n",
    "# Add some text for labels, title and custom x-axis tick labels, etc.\n",
    "ax.set_ylabel('Average minimum distance')\n",
    "ax.set_title('Average distance between red clusters over time')\n",
    "ax.legend(loc = 'upper center')\n",
    "ax.grid(visible = True, linestyle = '--', linewidth=0.5)\n",
    "ax.set_ylim(top = max(max(s_0), max(s_0))*1.3)\n",
    "\n",
    "fig.tight_layout()\n",
    "\n",
    "plt.show()"
   ]
  },
  {
   "cell_type": "code",
   "execution_count": null,
   "id": "1d123401",
   "metadata": {},
   "outputs": [],
   "source": []
  }
 ],
 "metadata": {
  "kernelspec": {
   "display_name": "Python 3 (ipykernel)",
   "language": "python",
   "name": "python3"
  },
  "language_info": {
   "codemirror_mode": {
    "name": "ipython",
    "version": 3
   },
   "file_extension": ".py",
   "mimetype": "text/x-python",
   "name": "python",
   "nbconvert_exporter": "python",
   "pygments_lexer": "ipython3",
   "version": "3.9.7"
  }
 },
 "nbformat": 4,
 "nbformat_minor": 5
}
